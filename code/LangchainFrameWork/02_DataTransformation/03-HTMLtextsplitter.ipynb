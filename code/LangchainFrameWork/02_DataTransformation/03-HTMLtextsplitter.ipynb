{
 "cells": [
  {
   "cell_type": "markdown",
   "metadata": {},
   "source": [
    "##### How to split by HTML header\n",
    "HTMLHeaderTextSplitter is a \"structure-aware\" chunker that splits text at the HTML element level and adds metadata for each header \"relevant\" to any given chunk. It can return chunks element by element or combine elements with the same metadata, with the objectives of (a) keeping related text grouped (more or less) semantically and (b) preserving context-rich information encoded in document structures. It can be used with other text splitters as part of a chunking pipeline.\n"
   ]
  },
  {
   "cell_type": "code",
   "execution_count": 1,
   "metadata": {},
   "outputs": [
    {
     "data": {
      "text/plain": [
       "[Document(metadata={'Header 1': 'Foo'}, page_content='Foo'),\n",
       " Document(metadata={'Header 1': 'Foo'}, page_content='Some intro text about Foo.'),\n",
       " Document(metadata={'Header 1': 'Foo', 'Header 2': 'Bar main section'}, page_content='Bar main section'),\n",
       " Document(metadata={'Header 1': 'Foo', 'Header 2': 'Bar main section'}, page_content='Some intro text about Bar.'),\n",
       " Document(metadata={'Header 1': 'Foo', 'Header 2': 'Bar main section', 'Header 3': 'Bar subsection 1'}, page_content='Bar subsection 1'),\n",
       " Document(metadata={'Header 1': 'Foo', 'Header 2': 'Bar main section', 'Header 3': 'Bar subsection 1'}, page_content='Some text about the first subtopic of Bar.'),\n",
       " Document(metadata={'Header 1': 'Foo', 'Header 2': 'Bar main section', 'Header 3': 'Bar subsection 2'}, page_content='Bar subsection 2'),\n",
       " Document(metadata={'Header 1': 'Foo', 'Header 2': 'Bar main section', 'Header 3': 'Bar subsection 2'}, page_content='Some text about the second subtopic of Bar.'),\n",
       " Document(metadata={'Header 1': 'Foo', 'Header 2': 'Baz'}, page_content='Baz'),\n",
       " Document(metadata={'Header 1': 'Foo'}, page_content='Some text about Baz  \\nSome concluding text about Foo')]"
      ]
     },
     "execution_count": 1,
     "metadata": {},
     "output_type": "execute_result"
    }
   ],
   "source": [
    "from langchain_text_splitters import HTMLHeaderTextSplitter\n",
    "\n",
    "html_string = \"\"\"\n",
    "<!DOCTYPE html>\n",
    "<html>\n",
    "<body>\n",
    "    <div>\n",
    "        <h1>Foo</h1>\n",
    "        <p>Some intro text about Foo.</p>\n",
    "        <div>\n",
    "            <h2>Bar main section</h2>\n",
    "            <p>Some intro text about Bar.</p>\n",
    "            <h3>Bar subsection 1</h3>\n",
    "            <p>Some text about the first subtopic of Bar.</p>\n",
    "            <h3>Bar subsection 2</h3>\n",
    "            <p>Some text about the second subtopic of Bar.</p>\n",
    "        </div>\n",
    "        <div>\n",
    "            <h2>Baz</h2>\n",
    "            <p>Some text about Baz</p>\n",
    "        </div>\n",
    "        <br>\n",
    "        <p>Some concluding text about Foo</p>\n",
    "    </div>\n",
    "</body>\n",
    "</html>\n",
    "\"\"\"\n",
    "\n",
    "headers_to_split_on=[\n",
    "    (\"h1\",\"Header 1\"),\n",
    "    (\"h2\",\"Header 2\"),\n",
    "    (\"h3\",\"Header 3\")\n",
    "]\n",
    "\n",
    "html_splitter=HTMLHeaderTextSplitter(headers_to_split_on)\n",
    "html_header_splits=html_splitter.split_text(html_string)\n",
    "html_header_splits\n"
   ]
  },
  {
   "cell_type": "code",
   "execution_count": 2,
   "metadata": {},
   "outputs": [
    {
     "data": {
      "text/plain": [
       "[Document(metadata={}, page_content='* {\\n  -webkit-font-smoothing: antialiased;\\n}\\n\\n.page-wrapper {\\noverflow: clip;\\n  }\\n\\n\\n\\n/* Set fluid size change for smaller breakpoints */\\n  html { font-size: 1rem; }\\n  @media screen and (max-width:1920px) and (min-width:1281px) { html { font-size: calc(0.2499999999999999rem + 0.6250000000000001vw); } }\\n  @media screen and (max-width:1280px) and (min-width:992px) { html { font-size: calc(0.41223612197028925rem + 0.4222048475371384vw); } }\\n/* video sizing */\\n\\nvideo {\\n    object-fit: fill;\\n\\t\\twidth: 100%;\\n}\\n\\n\\n\\n#retrieval-video {\\n    object-fit: cover;\\n    width: 100%;\\n}\\n\\n\\n\\n/* Set color style to inherit */\\n.inherit-color * {\\n    color: inherit;\\n}\\n\\n/* Focus state style for keyboard navigation for the focusable elements */\\n*[tabindex]:focus-visible,\\n  input[type=\"file\"]:focus-visible {\\n   outline: 0.125rem solid #4d65ff;\\n   outline-offset: 0.125rem;\\n}\\n\\n/* Get rid of top margin on first element in any rich text element */\\n.w-richtext > :not(div):first-child, .w-richtext > div:first-child > :first-child {\\n  margin-top: 0 !important;\\n}\\n\\n/* Get rid of bottom margin on last element in any rich text element */\\n.w-richtext>:last-child, .w-richtext ol li:last-child, .w-richtext ul li:last-child {\\n\\tmargin-bottom: 0 !important;\\n}\\n\\n/* Prevent all click and hover interaction with an element */\\n.pointer-events-off {\\n\\tpointer-events: none;\\n}\\n\\n/* Enables all click and hover interaction with an element */\\n.pointer-events-on {\\n  pointer-events: auto;\\n}\\n\\n/* Create a class of .div-square which maintains a 1:1 dimension of a div */\\n.div-square::after {\\n\\tcontent: \"\";\\n\\tdisplay: block;\\n\\tpadding-bottom: 100%;\\n}\\n\\n/* Make sure containers never lose their center alignment */\\n.container-medium,.container-small, .container-large {\\n\\tmargin-right: auto !important;\\n  margin-left: auto !important;\\n}\\n\\n/* \\nMake the following elements inherit typography styles from the parent and not have hardcoded values. \\nImportant: You will not be able to style for example \"All Links\" in Designer with this CSS applied.\\nUncomment this CSS to use it in the project. Leave this message for future hand-off.\\n*/\\n/*\\na,\\n.w-input,\\n.w-select,\\n.w-tab-link,\\n.w-nav-link,\\n.w-dropdown-btn,\\n.w-dropdown-toggle,\\n.w-dropdown-link {\\n  color: inherit;\\n  text-decoration: inherit;\\n  font-size: inherit;\\n}\\n*/\\n\\n/* Apply \"...\" after 3 lines of text */\\n.text-style-3lines {\\n\\tdisplay: -webkit-box;\\n\\toverflow: hidden;\\n\\t-webkit-line-clamp: 3;\\n\\t-webkit-box-orient: vertical;\\n}\\n\\n/* Apply \"...\" after 2 lines of text */\\n.text-style-2lines {\\n\\tdisplay: -webkit-box;\\n\\toverflow: hidden;\\n\\t-webkit-line-clamp: 2;\\n\\t-webkit-box-orient: vertical;\\n}\\n\\n/* Adds inline flex display */\\n.display-inlineflex {\\n  display: inline-flex;\\n}\\n\\n/* These classes are never overwritten */\\n.hide {\\n  display: none !important;\\n}\\n\\n@media screen and (max-width: 991px) {\\n    .hide, .hide-tablet {\\n        display: none !important;\\n    }\\n}\\n  @media screen and (max-width: 767px) {\\n    .hide-mobile-landscape{\\n      display: none !important;\\n    }\\n}\\n  @media screen and (max-width: 479px) {\\n    .hide-mobile{\\n      display: none !important;\\n    }\\n}\\n \\n.margin-0 {\\n  margin: 0rem !important;\\n}\\n  \\n.padding-0 {\\n  padding: 0rem !important;\\n}\\n\\n.spacing-clean {\\npadding: 0rem !important;\\nmargin: 0rem !important;\\n}\\n\\n.margin-top {\\n  margin-right: 0rem !important;\\n  margin-bottom: 0rem !important;\\n  margin-left: 0rem !important;\\n}\\n\\n.padding-top {\\n  padding-right: 0rem !important;\\n  padding-bottom: 0rem !important;\\n  padding-left: 0rem !important;\\n}\\n  \\n.margin-right {\\n  margin-top: 0rem !important;\\n  margin-bottom: 0rem !important;\\n  margin-left: 0rem !important;\\n}\\n\\n.padding-right {\\n  padding-top: 0rem !important;\\n  padding-bottom: 0rem !important;\\n  padding-left: 0rem !important;\\n}\\n\\n.margin-bottom {\\n  margin-top: 0rem !important;\\n  margin-right: 0rem !important;\\n  margin-left: 0rem !important;\\n}\\n\\n.padding-bottom {\\n  padding-top: 0rem !important;\\n  padding-right: 0rem !important;\\n  padding-left: 0rem !important;\\n}\\n\\n.margin-left {\\n  margin-top: 0rem !important;\\n  margin-right: 0rem !important;\\n  margin-bottom: 0rem !important;\\n}\\n  \\n.padding-left {\\n  padding-top: 0rem !important;\\n  padding-right: 0rem !important;\\n  padding-bottom: 0rem !important;\\n}\\n  \\n.margin-horizontal {\\n  margin-top: 0rem !important;\\n  margin-bottom: 0rem !important;\\n}\\n\\n.padding-horizontal {\\n  padding-top: 0rem !important;\\n  padding-bottom: 0rem !important;\\n}\\n\\n.margin-vertical {\\n  margin-right: 0rem !important;\\n  margin-left: 0rem !important;\\n}\\n  \\n.padding-vertical {\\n  padding-right: 0rem !important;\\n  padding-left: 0rem !important;\\n}\\n\\n/* Apply \"...\" at 100% width */\\n.truncate-width { \\n\\t\\twidth: 100%; \\n    white-space: nowrap; \\n    overflow: hidden; \\n    text-overflow: ellipsis; \\n}\\n/* Removes native scrollbar */\\n.no-scrollbar {\\n    -ms-overflow-style: none;\\n    overflow: -moz-scrollbars-none; \\n}\\n\\n.no-scrollbar::-webkit-scrollbar {\\n    display: none;\\n}\\n\\ninput:checked + span {\\ncolor: white    /* styles for the div immediately following the checked input */\\n}\\n\\n/* styles for word-wrapping\\nh1, h2, h3 {\\nword-wrap: break-word;\\nhyphens: auto;\\n}*/\\n\\n[nav-theme=\"light\"] .navbar_logo-svg {\\n\\t--nav--logo: var(--light--logo);\\n}\\n\\n[nav-theme=\"light\"] .button.is-nav {\\n\\t--nav--button-bg: var(--light--button-bg);\\n\\t--nav--button-text: var(--light--button-text);\\n}\\n\\n[nav-theme=\"light\"] .button.is-nav:hover {\\n\\t--nav--button-bg: var(--dark--button-bg);\\n\\t--nav--button-text:var(--dark--button-text);\\n}\\n\\n[nav-theme=\"dark\"] .navbar_logo-svg {\\n\\t--nav--logo: var(--dark--logo);\\n}\\n\\n[nav-theme=\"dark\"] .button.is-nav {\\n\\t--nav--button-bg: var(--dark--button-bg);\\n\\t--nav--button-text: var(--dark--button-text);\\n}\\n\\n[nav-theme=\"dark\"] .button.is-nav:hover {\\n\\t--nav--button-bg: var(--light--button-bg);\\n\\t--nav--button-text: var(--light--button-text);\\n}\\n\\n[nav-theme=\"red\"] .navbar_logo-svg {\\n\\t--nav--logo: var(--red--logo);\\n}\\n\\n\\n[nav-theme=\"red\"] .button.is-nav {\\n\\t--nav--button-bg: var(--red--button-bg);\\n\\t--nav--button-text: var(--red--button-text);\\n}\\n\\n.navbar_logo-svg.is-light, .navbar_logo-svg.is-red.is-light{\\ncolor: #F8F7FF!important;\\n}\\n\\n.news_button[disabled] {\\nbackground: none;\\n}\\n\\n.product_bg-video video {\\nobject-fit: fill;\\n}\\n.text-size-regular.toc-link-agents.w--current {\\n\\tcolor: var(--colors--green--green-400) !important;\\n}  \\nProducts  \\nLangChain  \\nLangSmith  \\nLangGraph  \\nMethods  \\nRetrieval  \\nAgents  \\nEvaluation  \\nResources  \\nBlog  \\nCustomer Stories  \\nLangChain Academy  \\nCommunity  \\nExperts  \\nChangelog  \\nLLM Evaluations Guide  \\nState of AI Agents  \\nBreakout Agent Stories  \\nDocs  \\nPython  \\nLangChain  \\nLangSmith  \\nLangGraph  \\nJavaScript  \\nLangChain  \\nLangSmith  \\nLangGraph  \\nCompany  \\nAbout  \\nCareers  \\nPricing  \\nLangSmith  \\nLangGraph Platform  \\nGet a demo  \\nSign up  \\nProducts  \\nLangChain  \\nLangSmith  \\nLangGraph  \\nMethods  \\nRetrieval  \\nAgents  \\nEvaluation  \\nResources  \\nBlog  \\nCustomer Stories  \\nLangChain Academy  \\nCommunity  \\nExperts  \\nChangelog  \\nLLM Evaluations Guide  \\nState of AI Agents  \\nBreakout Agent Stories  \\nDocs  \\nPython  \\nLangChain  \\nLangSmith  \\nLangGraph  \\nJavaScript  \\nLangChain  \\nLangSmith  \\nLangGraph  \\nCompany  \\nAbout  \\nCareers  \\nPricing  \\nLangSmith  \\nLangGraph Platform  \\nGet a demo  \\nSign up  \\nLangChainâ\\x80\\x99s suite of products supports developers along each step of the LLM application lifecycle.'),\n",
       " Document(metadata={'Header 1': 'Applications that can reason. Powered by LangChain.'}, page_content='Applications that can reason. Powered by LangChain.'),\n",
       " Document(metadata={'Header 1': 'Applications that can reason. Powered by LangChain.'}, page_content='Secure your early bird ticket to  !  \\nInterrupt, The AI Agent Conference  \\nGet a demo'),\n",
       " Document(metadata={'Header 2': 'From startups to global enterprises,  ambitious builders choose  LangChain products.'}, page_content='From startups to global enterprises,  ambitious builders choose  LangChain products.'),\n",
       " Document(metadata={'Header 1': 'Applications that can reason. Powered by LangChain.', 'Header 2': 'From startups to global enterprises,  ambitious builders choose  LangChain products.'}, page_content=\"Build  \\nLangChain is a composable framework to build with LLMs. LangGraph is the orchestration framework for controllable agentic workflows.  \\nRun  \\nDeploy your LLM applications at scale with LangGraph Platform, our infrastructure purpose-built for agents.  \\nManage  \\nDebug, collaborate, test, and monitor your LLM app in LangSmith - whether it's built with a LangChain framework or not.Â\"),\n",
       " Document(metadata={'Header 1': 'Applications that can reason. Powered by LangChain.', 'Header 2': 'Build your app with LangChain'}, page_content='Build your app with LangChain'),\n",
       " Document(metadata={'Header 1': 'Applications that can reason. Powered by LangChain.', 'Header 2': 'Build your app with LangChain'}, page_content='Build context-aware, reasoning applications with LangChainâ\\x80\\x99s flexible framework that leverages your companyâ\\x80\\x99s data and APIs. Future-proof your application by making vendor optionality part of your LLM infrastructure design.  \\nLearn more about LangChain'),\n",
       " Document(metadata={'Header 1': 'Applications that can reason. Powered by LangChain.', 'Header 2': 'Run at scale with LangGraphÂ\\xa0Platform'}, page_content='Run at scale with LangGraphÂ\\xa0Platform'),\n",
       " Document(metadata={'Header 1': 'Applications that can reason. Powered by LangChain.', 'Header 2': 'Run at scale with LangGraphÂ\\xa0Platform'}, page_content='Use LangGraph Platformâ\\x80\\x99s APIs to design agent-driven user experiences featuring human-in-the-loop, multi-agent collaboration, conversation history, long-term memory, and time-travel. Deploy with fault-tolerant scalability.  \\nLearn more about LangGraphÂ\\xa0Platform'),\n",
       " Document(metadata={'Header 1': 'Applications that can reason. Powered by LangChain.', 'Header 2': 'Manage LLM performance withÂ\\xa0LangSmith'}, page_content='Manage LLM performance withÂ\\xa0LangSmith'),\n",
       " Document(metadata={}, page_content='Ship faster with LangSmithâ\\x80\\x99s debug, test, deploy, and monitoring workflows. Donâ\\x80\\x99t rely on â\\x80\\x9cvibesâ\\x80\\x9d â\\x80\\x93 add engineering rigor to your LLM-development workflow, whether youâ\\x80\\x99re building with LangChain or not.  \\nLearn more about LangSmith  \\nHear from our happy customers  \\nLangChain, LangGraph, and LangSmith help teams of all sizes, across all industries - from ambitious startups to established enterprises.  \\nâ\\x80\\x9cLangSmith helped us improve the accuracy and performance of Retoolâ\\x80\\x99s fine-tuned models. Not only did we deliver a better product by iterating with LangSmith, but weâ\\x80\\x99re shipping new AI features to our users in a fraction of the time it would have taken without it.â\\x80\\x9d  \\nJamie Cuffe  \\nHead of Self-Serve and New Products  \\nâ\\x80\\x9cBy combining the benefits of LangSmith and standing on the shoulders of a gigantic open-source community, weâ\\x80\\x99re able to identify the right approaches of using LLMs in an enterprise-setting faster.â\\x80\\x9d  \\nYusuke Kaji  \\nGeneral Manager of AI  \\nâ\\x80\\x9cWorking with LangChain and LangSmith on the Elastic AI Assistant had a significant positive impact on the overall pace and quality of the development and shipping experience. We couldnâ\\x80\\x99t have achieved Â\\xa0the product experience delivered to our customers without LangChain, and we couldnâ\\x80\\x99t have done it at the same pace without LangSmith.â\\x80\\x9d  \\nJames Spiteri  \\nDirector of Security Products  \\nâ\\x80\\x9cAs soon as we heard about LangSmith, we moved our entire development stack onto it. We could have built evaluation, testing and monitoring tools in house, but with LangSmith it took us 10x less time to get a 1000x better tool.â\\x80\\x9d  \\nJose PeÃ±a  \\nSenior Manager  \\nvar Webflow = Webflow || [];\\nWebflow.push(function () {\\n  // DOMready has fired\\n  // May now use jQuery and Webflow api\\n\\n\\nconst teamSlider = new Swiper(\".swiper.is-customers\", {\\n  // Parameters\\n  loop: true,\\n  speed: 700,\\n\\tloopAdditionalSlides: 5,\\n  grabCursor: true,\\n  slidesPerView: 1.2,\\n  spaceBetween: 24,\\n  allowTouchMove: true,\\n\\n  // Navigation arrows\\n  navigation: {\\n    nextEl: \".single-arrow.is-next\",\\n    prevEl: \".single-arrow.is-prev\"\\n  },\\n  autoplay: {\\n    delay: 5000,\\n    disableOnInteraction: false,\\n    pauseOnMouseEnter: true,\\n  },\\n\\n  // Responsive breakpoints\\n  breakpoints: {\\n    // when window width is >= 480px\\n    860: {\\n      slidesPerView: 2,\\n      spaceBetween: 30\\n    },\\n    // when window width is >= 1200px\\n    1200: {\\n      slidesPerView: 3,\\n      spaceBetween: 40\\n    }\\n  }\\n});\\n\\n});  \\n@media screen and (max-width:991px) {.swiper-slide {\\nheight: auto;\\n}}'),\n",
       " Document(metadata={'Header 2': 'The reference architecture enterprises adopt for success.'}, page_content='The reference architecture enterprises adopt for success.'),\n",
       " Document(metadata={'Header 2': 'The reference architecture enterprises adopt for success.'}, page_content='LangChainâ\\x80\\x99s suite of products can be used independently or stacked together for multiplicative impact â\\x80\\x93 guiding you through building, running, and managing your LLM apps.  \\n20M+  \\nMonthly Downloads  \\n100K+  \\nApps Powered  \\n100K+  \\nGitHub Stars  \\n4K+  \\nContributors'),\n",
       " Document(metadata={'Header 2': 'The biggest developer community in GenAI'}, page_content='The biggest developer community in GenAI'),\n",
       " Document(metadata={'Header 2': 'The biggest developer community in GenAI'}, page_content='Learn alongside the 1M+ developers who are pushing the industry forward.  \\nExplore LangChain'),\n",
       " Document(metadata={'Header 2': 'Get started with the LangSmith platform today'}, page_content='Get started with the LangSmith platform today'),\n",
       " Document(metadata={'Header 2': 'Get started with the LangSmith platform today'}, page_content='Get a demo  \\nSign up for free  \\nTeams building with LangChain are driving operational efficiency, increasing discovery & personalization, and delivering premium products that generate revenue.  \\nSee customer stories'),\n",
       " Document(metadata={'Header 2': 'Get inspired by companies who have done it.'}, page_content='Get inspired by companies who have done it.'),\n",
       " Document(metadata={'Header 2': 'Get inspired by companies who have done it.'}, page_content='Financial Services  \\nFinTech  \\nTechnology'),\n",
       " Document(metadata={'Header 2': 'LangSmith is the enterpriseÂ\\xa0developer platformÂ\\xa0built for LLMs.'}, page_content='LangSmith is the enterpriseÂ\\xa0developer platformÂ\\xa0built for LLMs.'),\n",
       " Document(metadata={'Header 2': 'LangSmith is the enterpriseÂ\\xa0developer platformÂ\\xa0built for LLMs.'}, page_content='Explore LangSmith  \\nGain visibility to make trade offs between cost, latency, and quality.  \\nIncrease developer productivity.  \\nEliminate manual, error-prone testing.  \\nReduce hallucinations and improve reliability.  \\nEnterprise deployment options to keep data secure.'),\n",
       " Document(metadata={'Header 2': 'Ready to start shipping â\\x80¨reliable GenAI apps faster?'}, page_content='Ready to start shipping â\\x80¨reliable GenAI apps faster?'),\n",
       " Document(metadata={}, page_content='Get started with LangChain, LangSmith, and LangGraph to enhance your LLM app development, from prototype to production.  \\nGet a demo  \\nSign up for free  \\nProducts  \\nLangChain  \\nLangSmith  \\nLangGraph  \\nAgents  \\nEvaluation  \\nRetrieval  \\nResources  \\nPython Docs  \\nJS/TS Docs  \\nGitHub  \\nIntegrations  \\nChangelog  \\nCommunity  \\nLangSmith Trust Portal  \\nCompany  \\nAbout  \\nCareers  \\nBlog  \\nTwitter  \\nLinkedIn  \\nYouTube  \\nMarketing Assets  \\nSign up for our newsletter to stay up to date  \\nThank you! Your submission has been received!  \\nOops! Something went wrong while submitting the form.  \\nAll systems  \\noperational  \\nPrivacy Policy  \\nTerms of Service  \\nvar sp = new StatusPage.page({ page : \\'nl3597xjtlm2\\' });\\n  sp.summary({\\n    success : function(data) {\\n      // Get the status value from the first component\\n      var status = data.components[0].status;\\n      \\n      // Log the status to the console (optional, you can remove this line)\\n      console.log(status);\\n      \\n      // Find the span with the class \\'.system-status\\' and set its content\\n      var statusSpan = document.querySelector(\\'.system-status\\');\\n      if(statusSpan) {\\n        statusSpan.textContent = status; // or use innerHTML if you need to include HTML\\n      }\\n    }\\n  });  \\nvar Webflow = Webflow || [];\\nWebflow.push(function () {\\n  // DOMready has fired\\n  // May now use jQuery and Webflow api\\ndocument.querySelector(\\'.w-nav-button\\').addEventListener(\\'click\\', function() {\\n    var logo = document.querySelector(\\'.navbar_logo-svg\\');\\n    \\n    // Toggle \\'open\\' class for both nav and logo\\n    logo.classList.toggle(\\'is-light\\');\\n});\\n});  \\n// Debounce function to limit the rate at which a function is executed\\nfunction debounce(func, wait) {\\n    let timeout;\\n    return function executedFunction(...args) {\\n        const later = () => {\\n            clearTimeout(timeout);\\n            func(...args);\\n        };\\n        clearTimeout(timeout);\\n        timeout = setTimeout(later, wait);\\n    };\\n}\\n\\n// Function to update video sources\\nfunction updateVideoSources() {\\n    const videos = document.querySelectorAll(\\'video\\'); // Select all video elements\\n    videos.forEach(video => {\\n        const sources = video.querySelectorAll(\\'source[data-src]\\'); // Select all source elements with a \"data-src\" attribute within each video\\n        if (window.innerWidth > 990) {\\n            sources.forEach(source => {\\n                source.src = source.getAttribute(\\'data-src\\'); // If screen width > 990, set src to data-src\\n            });\\n        } else {\\n            sources.forEach(source => {\\n                source.src = \\'#\\'; \\n            });\\n        }\\n        video.load(); // Important: load the new source(s) into the video\\n    });\\n}\\n\\n// Event listener for DOMContentLoaded to run once on start\\ndocument.addEventListener(\\'DOMContentLoaded\\', function() {\\n    updateVideoSources();\\n});\\n\\n// Event listener for resize with debounce\\nwindow.addEventListener(\\'resize\\', debounce(updateVideoSources, 250)); // Debounce resize event  \\n_linkedin_partner_id = \"5973154\";\\n\\twindow._linkedin_data_partner_ids = window._linkedin_data_partner_ids || [];\\n\\twindow._linkedin_data_partner_ids.push(_linkedin_partner_id);  \\n(function(l) {\\n\\t\\tif (!l){window.lintrk = function(a,b){window.lintrk.q.push([a,b])};\\t\\n\\t\\twindow.lintrk.q=[]}\\n\\tvar s = document.getElementsByTagName(\"script\")[0];\\n\\tvar b = document.createElement(\"script\");\\n\\tb.type = \"text/javascript\";b.async = true;\\n\\tb.src = \"https://snap.licdn.com/li.lms-analytics/insight.min.js\";\\n\\ts.parentNode.insertBefore(b, s);})(window.lintrk);')]"
      ]
     },
     "execution_count": 2,
     "metadata": {},
     "output_type": "execute_result"
    }
   ],
   "source": [
    "url = \"https://www.langchain.com/\"\n",
    "\n",
    "headers_to_split_on = [\n",
    "    (\"h1\", \"Header 1\"),\n",
    "    (\"h2\", \"Header 2\"),\n",
    "]\n",
    "html_splitter = HTMLHeaderTextSplitter(headers_to_split_on)\n",
    "html_header_splits = html_splitter.split_text_from_url(url)\n",
    "html_header_splits"
   ]
  },
  {
   "cell_type": "code",
   "execution_count": null,
   "metadata": {},
   "outputs": [],
   "source": []
  }
 ],
 "metadata": {
  "kernelspec": {
   "display_name": "Python 3",
   "language": "python",
   "name": "python3"
  },
  "language_info": {
   "codemirror_mode": {
    "name": "ipython",
    "version": 3
   },
   "file_extension": ".py",
   "mimetype": "text/x-python",
   "name": "python",
   "nbconvert_exporter": "python",
   "pygments_lexer": "ipython3",
   "version": "3.10.0"
  }
 },
 "nbformat": 4,
 "nbformat_minor": 2
}
