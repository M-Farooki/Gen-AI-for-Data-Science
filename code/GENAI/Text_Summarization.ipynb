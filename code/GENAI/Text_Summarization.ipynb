{
  "nbformat": 4,
  "nbformat_minor": 0,
  "metadata": {
    "colab": {
      "provenance": [],
      "gpuType": "T4"
    },
    "kernelspec": {
      "name": "python3",
      "display_name": "Python 3"
    },
    "language_info": {
      "name": "python"
    },
    "accelerator": "GPU",
    "widgets": {
      "application/vnd.jupyter.widget-state+json": {
        "5d0c1f1f2bf54fc8aff8a81be1b5d85f": {
          "model_module": "@jupyter-widgets/controls",
          "model_name": "HBoxModel",
          "model_module_version": "1.5.0",
          "state": {
            "_dom_classes": [],
            "_model_module": "@jupyter-widgets/controls",
            "_model_module_version": "1.5.0",
            "_model_name": "HBoxModel",
            "_view_count": null,
            "_view_module": "@jupyter-widgets/controls",
            "_view_module_version": "1.5.0",
            "_view_name": "HBoxView",
            "box_style": "",
            "children": [
              "IPY_MODEL_b25ddbe0a3c24fc08a2071205815d9cb",
              "IPY_MODEL_de5aae61a777427397a6fd9044fea2c2",
              "IPY_MODEL_2265cd4551a84817956573d5b74e589f"
            ],
            "layout": "IPY_MODEL_bd8bd3354e024a0b80e423ebc3c6735a"
          }
        },
        "b25ddbe0a3c24fc08a2071205815d9cb": {
          "model_module": "@jupyter-widgets/controls",
          "model_name": "HTMLModel",
          "model_module_version": "1.5.0",
          "state": {
            "_dom_classes": [],
            "_model_module": "@jupyter-widgets/controls",
            "_model_module_version": "1.5.0",
            "_model_name": "HTMLModel",
            "_view_count": null,
            "_view_module": "@jupyter-widgets/controls",
            "_view_module_version": "1.5.0",
            "_view_name": "HTMLView",
            "description": "",
            "description_tooltip": null,
            "layout": "IPY_MODEL_c6109dc78ae048dc86074b6a7408baa6",
            "placeholder": "​",
            "style": "IPY_MODEL_1e608b2f65e3426a9c7d9aec03da14fe",
            "value": "config.json: 100%"
          }
        },
        "de5aae61a777427397a6fd9044fea2c2": {
          "model_module": "@jupyter-widgets/controls",
          "model_name": "FloatProgressModel",
          "model_module_version": "1.5.0",
          "state": {
            "_dom_classes": [],
            "_model_module": "@jupyter-widgets/controls",
            "_model_module_version": "1.5.0",
            "_model_name": "FloatProgressModel",
            "_view_count": null,
            "_view_module": "@jupyter-widgets/controls",
            "_view_module_version": "1.5.0",
            "_view_name": "ProgressView",
            "bar_style": "success",
            "description": "",
            "description_tooltip": null,
            "layout": "IPY_MODEL_93130bfaacfb4544a7ae524dba091dad",
            "max": 1585,
            "min": 0,
            "orientation": "horizontal",
            "style": "IPY_MODEL_d243c055336845e593aa36a3d05f5813",
            "value": 1585
          }
        },
        "2265cd4551a84817956573d5b74e589f": {
          "model_module": "@jupyter-widgets/controls",
          "model_name": "HTMLModel",
          "model_module_version": "1.5.0",
          "state": {
            "_dom_classes": [],
            "_model_module": "@jupyter-widgets/controls",
            "_model_module_version": "1.5.0",
            "_model_name": "HTMLModel",
            "_view_count": null,
            "_view_module": "@jupyter-widgets/controls",
            "_view_module_version": "1.5.0",
            "_view_name": "HTMLView",
            "description": "",
            "description_tooltip": null,
            "layout": "IPY_MODEL_42df3ca26b244c2d9526290501f593e2",
            "placeholder": "​",
            "style": "IPY_MODEL_3600e2432f9d448f8d0cc78656ac3f88",
            "value": " 1.58k/1.58k [00:00&lt;00:00, 31.7kB/s]"
          }
        },
        "bd8bd3354e024a0b80e423ebc3c6735a": {
          "model_module": "@jupyter-widgets/base",
          "model_name": "LayoutModel",
          "model_module_version": "1.2.0",
          "state": {
            "_model_module": "@jupyter-widgets/base",
            "_model_module_version": "1.2.0",
            "_model_name": "LayoutModel",
            "_view_count": null,
            "_view_module": "@jupyter-widgets/base",
            "_view_module_version": "1.2.0",
            "_view_name": "LayoutView",
            "align_content": null,
            "align_items": null,
            "align_self": null,
            "border": null,
            "bottom": null,
            "display": null,
            "flex": null,
            "flex_flow": null,
            "grid_area": null,
            "grid_auto_columns": null,
            "grid_auto_flow": null,
            "grid_auto_rows": null,
            "grid_column": null,
            "grid_gap": null,
            "grid_row": null,
            "grid_template_areas": null,
            "grid_template_columns": null,
            "grid_template_rows": null,
            "height": null,
            "justify_content": null,
            "justify_items": null,
            "left": null,
            "margin": null,
            "max_height": null,
            "max_width": null,
            "min_height": null,
            "min_width": null,
            "object_fit": null,
            "object_position": null,
            "order": null,
            "overflow": null,
            "overflow_x": null,
            "overflow_y": null,
            "padding": null,
            "right": null,
            "top": null,
            "visibility": null,
            "width": null
          }
        },
        "c6109dc78ae048dc86074b6a7408baa6": {
          "model_module": "@jupyter-widgets/base",
          "model_name": "LayoutModel",
          "model_module_version": "1.2.0",
          "state": {
            "_model_module": "@jupyter-widgets/base",
            "_model_module_version": "1.2.0",
            "_model_name": "LayoutModel",
            "_view_count": null,
            "_view_module": "@jupyter-widgets/base",
            "_view_module_version": "1.2.0",
            "_view_name": "LayoutView",
            "align_content": null,
            "align_items": null,
            "align_self": null,
            "border": null,
            "bottom": null,
            "display": null,
            "flex": null,
            "flex_flow": null,
            "grid_area": null,
            "grid_auto_columns": null,
            "grid_auto_flow": null,
            "grid_auto_rows": null,
            "grid_column": null,
            "grid_gap": null,
            "grid_row": null,
            "grid_template_areas": null,
            "grid_template_columns": null,
            "grid_template_rows": null,
            "height": null,
            "justify_content": null,
            "justify_items": null,
            "left": null,
            "margin": null,
            "max_height": null,
            "max_width": null,
            "min_height": null,
            "min_width": null,
            "object_fit": null,
            "object_position": null,
            "order": null,
            "overflow": null,
            "overflow_x": null,
            "overflow_y": null,
            "padding": null,
            "right": null,
            "top": null,
            "visibility": null,
            "width": null
          }
        },
        "1e608b2f65e3426a9c7d9aec03da14fe": {
          "model_module": "@jupyter-widgets/controls",
          "model_name": "DescriptionStyleModel",
          "model_module_version": "1.5.0",
          "state": {
            "_model_module": "@jupyter-widgets/controls",
            "_model_module_version": "1.5.0",
            "_model_name": "DescriptionStyleModel",
            "_view_count": null,
            "_view_module": "@jupyter-widgets/base",
            "_view_module_version": "1.2.0",
            "_view_name": "StyleView",
            "description_width": ""
          }
        },
        "93130bfaacfb4544a7ae524dba091dad": {
          "model_module": "@jupyter-widgets/base",
          "model_name": "LayoutModel",
          "model_module_version": "1.2.0",
          "state": {
            "_model_module": "@jupyter-widgets/base",
            "_model_module_version": "1.2.0",
            "_model_name": "LayoutModel",
            "_view_count": null,
            "_view_module": "@jupyter-widgets/base",
            "_view_module_version": "1.2.0",
            "_view_name": "LayoutView",
            "align_content": null,
            "align_items": null,
            "align_self": null,
            "border": null,
            "bottom": null,
            "display": null,
            "flex": null,
            "flex_flow": null,
            "grid_area": null,
            "grid_auto_columns": null,
            "grid_auto_flow": null,
            "grid_auto_rows": null,
            "grid_column": null,
            "grid_gap": null,
            "grid_row": null,
            "grid_template_areas": null,
            "grid_template_columns": null,
            "grid_template_rows": null,
            "height": null,
            "justify_content": null,
            "justify_items": null,
            "left": null,
            "margin": null,
            "max_height": null,
            "max_width": null,
            "min_height": null,
            "min_width": null,
            "object_fit": null,
            "object_position": null,
            "order": null,
            "overflow": null,
            "overflow_x": null,
            "overflow_y": null,
            "padding": null,
            "right": null,
            "top": null,
            "visibility": null,
            "width": null
          }
        },
        "d243c055336845e593aa36a3d05f5813": {
          "model_module": "@jupyter-widgets/controls",
          "model_name": "ProgressStyleModel",
          "model_module_version": "1.5.0",
          "state": {
            "_model_module": "@jupyter-widgets/controls",
            "_model_module_version": "1.5.0",
            "_model_name": "ProgressStyleModel",
            "_view_count": null,
            "_view_module": "@jupyter-widgets/base",
            "_view_module_version": "1.2.0",
            "_view_name": "StyleView",
            "bar_color": null,
            "description_width": ""
          }
        },
        "42df3ca26b244c2d9526290501f593e2": {
          "model_module": "@jupyter-widgets/base",
          "model_name": "LayoutModel",
          "model_module_version": "1.2.0",
          "state": {
            "_model_module": "@jupyter-widgets/base",
            "_model_module_version": "1.2.0",
            "_model_name": "LayoutModel",
            "_view_count": null,
            "_view_module": "@jupyter-widgets/base",
            "_view_module_version": "1.2.0",
            "_view_name": "LayoutView",
            "align_content": null,
            "align_items": null,
            "align_self": null,
            "border": null,
            "bottom": null,
            "display": null,
            "flex": null,
            "flex_flow": null,
            "grid_area": null,
            "grid_auto_columns": null,
            "grid_auto_flow": null,
            "grid_auto_rows": null,
            "grid_column": null,
            "grid_gap": null,
            "grid_row": null,
            "grid_template_areas": null,
            "grid_template_columns": null,
            "grid_template_rows": null,
            "height": null,
            "justify_content": null,
            "justify_items": null,
            "left": null,
            "margin": null,
            "max_height": null,
            "max_width": null,
            "min_height": null,
            "min_width": null,
            "object_fit": null,
            "object_position": null,
            "order": null,
            "overflow": null,
            "overflow_x": null,
            "overflow_y": null,
            "padding": null,
            "right": null,
            "top": null,
            "visibility": null,
            "width": null
          }
        },
        "3600e2432f9d448f8d0cc78656ac3f88": {
          "model_module": "@jupyter-widgets/controls",
          "model_name": "DescriptionStyleModel",
          "model_module_version": "1.5.0",
          "state": {
            "_model_module": "@jupyter-widgets/controls",
            "_model_module_version": "1.5.0",
            "_model_name": "DescriptionStyleModel",
            "_view_count": null,
            "_view_module": "@jupyter-widgets/base",
            "_view_module_version": "1.2.0",
            "_view_name": "StyleView",
            "description_width": ""
          }
        },
        "160b04aa729c44468d04183702862ca4": {
          "model_module": "@jupyter-widgets/controls",
          "model_name": "HBoxModel",
          "model_module_version": "1.5.0",
          "state": {
            "_dom_classes": [],
            "_model_module": "@jupyter-widgets/controls",
            "_model_module_version": "1.5.0",
            "_model_name": "HBoxModel",
            "_view_count": null,
            "_view_module": "@jupyter-widgets/controls",
            "_view_module_version": "1.5.0",
            "_view_name": "HBoxView",
            "box_style": "",
            "children": [
              "IPY_MODEL_a4d9e55983c9497890822c91ef6d665f",
              "IPY_MODEL_36088b6e4a214097b196bdee1211472c",
              "IPY_MODEL_24d46aae482149b2808de9b1a85a9d6a"
            ],
            "layout": "IPY_MODEL_8a744f5d1d0842efb210e6fc59058182"
          }
        },
        "a4d9e55983c9497890822c91ef6d665f": {
          "model_module": "@jupyter-widgets/controls",
          "model_name": "HTMLModel",
          "model_module_version": "1.5.0",
          "state": {
            "_dom_classes": [],
            "_model_module": "@jupyter-widgets/controls",
            "_model_module_version": "1.5.0",
            "_model_name": "HTMLModel",
            "_view_count": null,
            "_view_module": "@jupyter-widgets/controls",
            "_view_module_version": "1.5.0",
            "_view_name": "HTMLView",
            "description": "",
            "description_tooltip": null,
            "layout": "IPY_MODEL_46417e7609f44a86a4f7e43794dd2e83",
            "placeholder": "​",
            "style": "IPY_MODEL_ed9660d29a634a6c8d2b89dc5cf7fa72",
            "value": "model.safetensors: 100%"
          }
        },
        "36088b6e4a214097b196bdee1211472c": {
          "model_module": "@jupyter-widgets/controls",
          "model_name": "FloatProgressModel",
          "model_module_version": "1.5.0",
          "state": {
            "_dom_classes": [],
            "_model_module": "@jupyter-widgets/controls",
            "_model_module_version": "1.5.0",
            "_model_name": "FloatProgressModel",
            "_view_count": null,
            "_view_module": "@jupyter-widgets/controls",
            "_view_module_version": "1.5.0",
            "_view_name": "ProgressView",
            "bar_style": "success",
            "description": "",
            "description_tooltip": null,
            "layout": "IPY_MODEL_fc09bf08b9734fc69dc57d45efc24dac",
            "max": 1625222120,
            "min": 0,
            "orientation": "horizontal",
            "style": "IPY_MODEL_84c9b5403573480aaea55b8383142ce6",
            "value": 1625222120
          }
        },
        "24d46aae482149b2808de9b1a85a9d6a": {
          "model_module": "@jupyter-widgets/controls",
          "model_name": "HTMLModel",
          "model_module_version": "1.5.0",
          "state": {
            "_dom_classes": [],
            "_model_module": "@jupyter-widgets/controls",
            "_model_module_version": "1.5.0",
            "_model_name": "HTMLModel",
            "_view_count": null,
            "_view_module": "@jupyter-widgets/controls",
            "_view_module_version": "1.5.0",
            "_view_name": "HTMLView",
            "description": "",
            "description_tooltip": null,
            "layout": "IPY_MODEL_ceaa1bbbda2b4553ad19df4cac74092b",
            "placeholder": "​",
            "style": "IPY_MODEL_9d2c33f6440e47cf81ced03833fef400",
            "value": " 1.63G/1.63G [00:15&lt;00:00, 171MB/s]"
          }
        },
        "8a744f5d1d0842efb210e6fc59058182": {
          "model_module": "@jupyter-widgets/base",
          "model_name": "LayoutModel",
          "model_module_version": "1.2.0",
          "state": {
            "_model_module": "@jupyter-widgets/base",
            "_model_module_version": "1.2.0",
            "_model_name": "LayoutModel",
            "_view_count": null,
            "_view_module": "@jupyter-widgets/base",
            "_view_module_version": "1.2.0",
            "_view_name": "LayoutView",
            "align_content": null,
            "align_items": null,
            "align_self": null,
            "border": null,
            "bottom": null,
            "display": null,
            "flex": null,
            "flex_flow": null,
            "grid_area": null,
            "grid_auto_columns": null,
            "grid_auto_flow": null,
            "grid_auto_rows": null,
            "grid_column": null,
            "grid_gap": null,
            "grid_row": null,
            "grid_template_areas": null,
            "grid_template_columns": null,
            "grid_template_rows": null,
            "height": null,
            "justify_content": null,
            "justify_items": null,
            "left": null,
            "margin": null,
            "max_height": null,
            "max_width": null,
            "min_height": null,
            "min_width": null,
            "object_fit": null,
            "object_position": null,
            "order": null,
            "overflow": null,
            "overflow_x": null,
            "overflow_y": null,
            "padding": null,
            "right": null,
            "top": null,
            "visibility": null,
            "width": null
          }
        },
        "46417e7609f44a86a4f7e43794dd2e83": {
          "model_module": "@jupyter-widgets/base",
          "model_name": "LayoutModel",
          "model_module_version": "1.2.0",
          "state": {
            "_model_module": "@jupyter-widgets/base",
            "_model_module_version": "1.2.0",
            "_model_name": "LayoutModel",
            "_view_count": null,
            "_view_module": "@jupyter-widgets/base",
            "_view_module_version": "1.2.0",
            "_view_name": "LayoutView",
            "align_content": null,
            "align_items": null,
            "align_self": null,
            "border": null,
            "bottom": null,
            "display": null,
            "flex": null,
            "flex_flow": null,
            "grid_area": null,
            "grid_auto_columns": null,
            "grid_auto_flow": null,
            "grid_auto_rows": null,
            "grid_column": null,
            "grid_gap": null,
            "grid_row": null,
            "grid_template_areas": null,
            "grid_template_columns": null,
            "grid_template_rows": null,
            "height": null,
            "justify_content": null,
            "justify_items": null,
            "left": null,
            "margin": null,
            "max_height": null,
            "max_width": null,
            "min_height": null,
            "min_width": null,
            "object_fit": null,
            "object_position": null,
            "order": null,
            "overflow": null,
            "overflow_x": null,
            "overflow_y": null,
            "padding": null,
            "right": null,
            "top": null,
            "visibility": null,
            "width": null
          }
        },
        "ed9660d29a634a6c8d2b89dc5cf7fa72": {
          "model_module": "@jupyter-widgets/controls",
          "model_name": "DescriptionStyleModel",
          "model_module_version": "1.5.0",
          "state": {
            "_model_module": "@jupyter-widgets/controls",
            "_model_module_version": "1.5.0",
            "_model_name": "DescriptionStyleModel",
            "_view_count": null,
            "_view_module": "@jupyter-widgets/base",
            "_view_module_version": "1.2.0",
            "_view_name": "StyleView",
            "description_width": ""
          }
        },
        "fc09bf08b9734fc69dc57d45efc24dac": {
          "model_module": "@jupyter-widgets/base",
          "model_name": "LayoutModel",
          "model_module_version": "1.2.0",
          "state": {
            "_model_module": "@jupyter-widgets/base",
            "_model_module_version": "1.2.0",
            "_model_name": "LayoutModel",
            "_view_count": null,
            "_view_module": "@jupyter-widgets/base",
            "_view_module_version": "1.2.0",
            "_view_name": "LayoutView",
            "align_content": null,
            "align_items": null,
            "align_self": null,
            "border": null,
            "bottom": null,
            "display": null,
            "flex": null,
            "flex_flow": null,
            "grid_area": null,
            "grid_auto_columns": null,
            "grid_auto_flow": null,
            "grid_auto_rows": null,
            "grid_column": null,
            "grid_gap": null,
            "grid_row": null,
            "grid_template_areas": null,
            "grid_template_columns": null,
            "grid_template_rows": null,
            "height": null,
            "justify_content": null,
            "justify_items": null,
            "left": null,
            "margin": null,
            "max_height": null,
            "max_width": null,
            "min_height": null,
            "min_width": null,
            "object_fit": null,
            "object_position": null,
            "order": null,
            "overflow": null,
            "overflow_x": null,
            "overflow_y": null,
            "padding": null,
            "right": null,
            "top": null,
            "visibility": null,
            "width": null
          }
        },
        "84c9b5403573480aaea55b8383142ce6": {
          "model_module": "@jupyter-widgets/controls",
          "model_name": "ProgressStyleModel",
          "model_module_version": "1.5.0",
          "state": {
            "_model_module": "@jupyter-widgets/controls",
            "_model_module_version": "1.5.0",
            "_model_name": "ProgressStyleModel",
            "_view_count": null,
            "_view_module": "@jupyter-widgets/base",
            "_view_module_version": "1.2.0",
            "_view_name": "StyleView",
            "bar_color": null,
            "description_width": ""
          }
        },
        "ceaa1bbbda2b4553ad19df4cac74092b": {
          "model_module": "@jupyter-widgets/base",
          "model_name": "LayoutModel",
          "model_module_version": "1.2.0",
          "state": {
            "_model_module": "@jupyter-widgets/base",
            "_model_module_version": "1.2.0",
            "_model_name": "LayoutModel",
            "_view_count": null,
            "_view_module": "@jupyter-widgets/base",
            "_view_module_version": "1.2.0",
            "_view_name": "LayoutView",
            "align_content": null,
            "align_items": null,
            "align_self": null,
            "border": null,
            "bottom": null,
            "display": null,
            "flex": null,
            "flex_flow": null,
            "grid_area": null,
            "grid_auto_columns": null,
            "grid_auto_flow": null,
            "grid_auto_rows": null,
            "grid_column": null,
            "grid_gap": null,
            "grid_row": null,
            "grid_template_areas": null,
            "grid_template_columns": null,
            "grid_template_rows": null,
            "height": null,
            "justify_content": null,
            "justify_items": null,
            "left": null,
            "margin": null,
            "max_height": null,
            "max_width": null,
            "min_height": null,
            "min_width": null,
            "object_fit": null,
            "object_position": null,
            "order": null,
            "overflow": null,
            "overflow_x": null,
            "overflow_y": null,
            "padding": null,
            "right": null,
            "top": null,
            "visibility": null,
            "width": null
          }
        },
        "9d2c33f6440e47cf81ced03833fef400": {
          "model_module": "@jupyter-widgets/controls",
          "model_name": "DescriptionStyleModel",
          "model_module_version": "1.5.0",
          "state": {
            "_model_module": "@jupyter-widgets/controls",
            "_model_module_version": "1.5.0",
            "_model_name": "DescriptionStyleModel",
            "_view_count": null,
            "_view_module": "@jupyter-widgets/base",
            "_view_module_version": "1.2.0",
            "_view_name": "StyleView",
            "description_width": ""
          }
        },
        "d54da7a2eafd43d7aba0a5680b98f8f2": {
          "model_module": "@jupyter-widgets/controls",
          "model_name": "HBoxModel",
          "model_module_version": "1.5.0",
          "state": {
            "_dom_classes": [],
            "_model_module": "@jupyter-widgets/controls",
            "_model_module_version": "1.5.0",
            "_model_name": "HBoxModel",
            "_view_count": null,
            "_view_module": "@jupyter-widgets/controls",
            "_view_module_version": "1.5.0",
            "_view_name": "HBoxView",
            "box_style": "",
            "children": [
              "IPY_MODEL_2e0968ab90e14a37b46a6b8bec2a1cc2",
              "IPY_MODEL_1b1d9eae682e4cb0a4222938d8fc4409",
              "IPY_MODEL_bdca6feff0074262b651000baf01e47b"
            ],
            "layout": "IPY_MODEL_7c6314c62f5d472d8493a90d9d1b03c3"
          }
        },
        "2e0968ab90e14a37b46a6b8bec2a1cc2": {
          "model_module": "@jupyter-widgets/controls",
          "model_name": "HTMLModel",
          "model_module_version": "1.5.0",
          "state": {
            "_dom_classes": [],
            "_model_module": "@jupyter-widgets/controls",
            "_model_module_version": "1.5.0",
            "_model_name": "HTMLModel",
            "_view_count": null,
            "_view_module": "@jupyter-widgets/controls",
            "_view_module_version": "1.5.0",
            "_view_name": "HTMLView",
            "description": "",
            "description_tooltip": null,
            "layout": "IPY_MODEL_d93d71e7442243ee976fa9fc93a65869",
            "placeholder": "​",
            "style": "IPY_MODEL_6052bf2970ee48b6b80ba85145247efb",
            "value": "generation_config.json: 100%"
          }
        },
        "1b1d9eae682e4cb0a4222938d8fc4409": {
          "model_module": "@jupyter-widgets/controls",
          "model_name": "FloatProgressModel",
          "model_module_version": "1.5.0",
          "state": {
            "_dom_classes": [],
            "_model_module": "@jupyter-widgets/controls",
            "_model_module_version": "1.5.0",
            "_model_name": "FloatProgressModel",
            "_view_count": null,
            "_view_module": "@jupyter-widgets/controls",
            "_view_module_version": "1.5.0",
            "_view_name": "ProgressView",
            "bar_style": "success",
            "description": "",
            "description_tooltip": null,
            "layout": "IPY_MODEL_80786ac266c349569bc18f0ffe0384d4",
            "max": 363,
            "min": 0,
            "orientation": "horizontal",
            "style": "IPY_MODEL_9ec7688e6e1e4caeaca4ca500d0b75f7",
            "value": 363
          }
        },
        "bdca6feff0074262b651000baf01e47b": {
          "model_module": "@jupyter-widgets/controls",
          "model_name": "HTMLModel",
          "model_module_version": "1.5.0",
          "state": {
            "_dom_classes": [],
            "_model_module": "@jupyter-widgets/controls",
            "_model_module_version": "1.5.0",
            "_model_name": "HTMLModel",
            "_view_count": null,
            "_view_module": "@jupyter-widgets/controls",
            "_view_module_version": "1.5.0",
            "_view_name": "HTMLView",
            "description": "",
            "description_tooltip": null,
            "layout": "IPY_MODEL_bbab4a93be2945209888bb06cf3db8e1",
            "placeholder": "​",
            "style": "IPY_MODEL_52ce2a9e844441abab918fcf46adbdc8",
            "value": " 363/363 [00:00&lt;00:00, 28.5kB/s]"
          }
        },
        "7c6314c62f5d472d8493a90d9d1b03c3": {
          "model_module": "@jupyter-widgets/base",
          "model_name": "LayoutModel",
          "model_module_version": "1.2.0",
          "state": {
            "_model_module": "@jupyter-widgets/base",
            "_model_module_version": "1.2.0",
            "_model_name": "LayoutModel",
            "_view_count": null,
            "_view_module": "@jupyter-widgets/base",
            "_view_module_version": "1.2.0",
            "_view_name": "LayoutView",
            "align_content": null,
            "align_items": null,
            "align_self": null,
            "border": null,
            "bottom": null,
            "display": null,
            "flex": null,
            "flex_flow": null,
            "grid_area": null,
            "grid_auto_columns": null,
            "grid_auto_flow": null,
            "grid_auto_rows": null,
            "grid_column": null,
            "grid_gap": null,
            "grid_row": null,
            "grid_template_areas": null,
            "grid_template_columns": null,
            "grid_template_rows": null,
            "height": null,
            "justify_content": null,
            "justify_items": null,
            "left": null,
            "margin": null,
            "max_height": null,
            "max_width": null,
            "min_height": null,
            "min_width": null,
            "object_fit": null,
            "object_position": null,
            "order": null,
            "overflow": null,
            "overflow_x": null,
            "overflow_y": null,
            "padding": null,
            "right": null,
            "top": null,
            "visibility": null,
            "width": null
          }
        },
        "d93d71e7442243ee976fa9fc93a65869": {
          "model_module": "@jupyter-widgets/base",
          "model_name": "LayoutModel",
          "model_module_version": "1.2.0",
          "state": {
            "_model_module": "@jupyter-widgets/base",
            "_model_module_version": "1.2.0",
            "_model_name": "LayoutModel",
            "_view_count": null,
            "_view_module": "@jupyter-widgets/base",
            "_view_module_version": "1.2.0",
            "_view_name": "LayoutView",
            "align_content": null,
            "align_items": null,
            "align_self": null,
            "border": null,
            "bottom": null,
            "display": null,
            "flex": null,
            "flex_flow": null,
            "grid_area": null,
            "grid_auto_columns": null,
            "grid_auto_flow": null,
            "grid_auto_rows": null,
            "grid_column": null,
            "grid_gap": null,
            "grid_row": null,
            "grid_template_areas": null,
            "grid_template_columns": null,
            "grid_template_rows": null,
            "height": null,
            "justify_content": null,
            "justify_items": null,
            "left": null,
            "margin": null,
            "max_height": null,
            "max_width": null,
            "min_height": null,
            "min_width": null,
            "object_fit": null,
            "object_position": null,
            "order": null,
            "overflow": null,
            "overflow_x": null,
            "overflow_y": null,
            "padding": null,
            "right": null,
            "top": null,
            "visibility": null,
            "width": null
          }
        },
        "6052bf2970ee48b6b80ba85145247efb": {
          "model_module": "@jupyter-widgets/controls",
          "model_name": "DescriptionStyleModel",
          "model_module_version": "1.5.0",
          "state": {
            "_model_module": "@jupyter-widgets/controls",
            "_model_module_version": "1.5.0",
            "_model_name": "DescriptionStyleModel",
            "_view_count": null,
            "_view_module": "@jupyter-widgets/base",
            "_view_module_version": "1.2.0",
            "_view_name": "StyleView",
            "description_width": ""
          }
        },
        "80786ac266c349569bc18f0ffe0384d4": {
          "model_module": "@jupyter-widgets/base",
          "model_name": "LayoutModel",
          "model_module_version": "1.2.0",
          "state": {
            "_model_module": "@jupyter-widgets/base",
            "_model_module_version": "1.2.0",
            "_model_name": "LayoutModel",
            "_view_count": null,
            "_view_module": "@jupyter-widgets/base",
            "_view_module_version": "1.2.0",
            "_view_name": "LayoutView",
            "align_content": null,
            "align_items": null,
            "align_self": null,
            "border": null,
            "bottom": null,
            "display": null,
            "flex": null,
            "flex_flow": null,
            "grid_area": null,
            "grid_auto_columns": null,
            "grid_auto_flow": null,
            "grid_auto_rows": null,
            "grid_column": null,
            "grid_gap": null,
            "grid_row": null,
            "grid_template_areas": null,
            "grid_template_columns": null,
            "grid_template_rows": null,
            "height": null,
            "justify_content": null,
            "justify_items": null,
            "left": null,
            "margin": null,
            "max_height": null,
            "max_width": null,
            "min_height": null,
            "min_width": null,
            "object_fit": null,
            "object_position": null,
            "order": null,
            "overflow": null,
            "overflow_x": null,
            "overflow_y": null,
            "padding": null,
            "right": null,
            "top": null,
            "visibility": null,
            "width": null
          }
        },
        "9ec7688e6e1e4caeaca4ca500d0b75f7": {
          "model_module": "@jupyter-widgets/controls",
          "model_name": "ProgressStyleModel",
          "model_module_version": "1.5.0",
          "state": {
            "_model_module": "@jupyter-widgets/controls",
            "_model_module_version": "1.5.0",
            "_model_name": "ProgressStyleModel",
            "_view_count": null,
            "_view_module": "@jupyter-widgets/base",
            "_view_module_version": "1.2.0",
            "_view_name": "StyleView",
            "bar_color": null,
            "description_width": ""
          }
        },
        "bbab4a93be2945209888bb06cf3db8e1": {
          "model_module": "@jupyter-widgets/base",
          "model_name": "LayoutModel",
          "model_module_version": "1.2.0",
          "state": {
            "_model_module": "@jupyter-widgets/base",
            "_model_module_version": "1.2.0",
            "_model_name": "LayoutModel",
            "_view_count": null,
            "_view_module": "@jupyter-widgets/base",
            "_view_module_version": "1.2.0",
            "_view_name": "LayoutView",
            "align_content": null,
            "align_items": null,
            "align_self": null,
            "border": null,
            "bottom": null,
            "display": null,
            "flex": null,
            "flex_flow": null,
            "grid_area": null,
            "grid_auto_columns": null,
            "grid_auto_flow": null,
            "grid_auto_rows": null,
            "grid_column": null,
            "grid_gap": null,
            "grid_row": null,
            "grid_template_areas": null,
            "grid_template_columns": null,
            "grid_template_rows": null,
            "height": null,
            "justify_content": null,
            "justify_items": null,
            "left": null,
            "margin": null,
            "max_height": null,
            "max_width": null,
            "min_height": null,
            "min_width": null,
            "object_fit": null,
            "object_position": null,
            "order": null,
            "overflow": null,
            "overflow_x": null,
            "overflow_y": null,
            "padding": null,
            "right": null,
            "top": null,
            "visibility": null,
            "width": null
          }
        },
        "52ce2a9e844441abab918fcf46adbdc8": {
          "model_module": "@jupyter-widgets/controls",
          "model_name": "DescriptionStyleModel",
          "model_module_version": "1.5.0",
          "state": {
            "_model_module": "@jupyter-widgets/controls",
            "_model_module_version": "1.5.0",
            "_model_name": "DescriptionStyleModel",
            "_view_count": null,
            "_view_module": "@jupyter-widgets/base",
            "_view_module_version": "1.2.0",
            "_view_name": "StyleView",
            "description_width": ""
          }
        },
        "a83838b79eb348fd8813b1d2044b324c": {
          "model_module": "@jupyter-widgets/controls",
          "model_name": "HBoxModel",
          "model_module_version": "1.5.0",
          "state": {
            "_dom_classes": [],
            "_model_module": "@jupyter-widgets/controls",
            "_model_module_version": "1.5.0",
            "_model_name": "HBoxModel",
            "_view_count": null,
            "_view_module": "@jupyter-widgets/controls",
            "_view_module_version": "1.5.0",
            "_view_name": "HBoxView",
            "box_style": "",
            "children": [
              "IPY_MODEL_36d164db1c73479182898e27e95b78d1",
              "IPY_MODEL_a79fad3652ec48919a0d623a07bd92c7",
              "IPY_MODEL_00e06bd5257d4f1fa315ed7e5d3fc9c8"
            ],
            "layout": "IPY_MODEL_bc7dc376acb645f9b2956f1b1b07230b"
          }
        },
        "36d164db1c73479182898e27e95b78d1": {
          "model_module": "@jupyter-widgets/controls",
          "model_name": "HTMLModel",
          "model_module_version": "1.5.0",
          "state": {
            "_dom_classes": [],
            "_model_module": "@jupyter-widgets/controls",
            "_model_module_version": "1.5.0",
            "_model_name": "HTMLModel",
            "_view_count": null,
            "_view_module": "@jupyter-widgets/controls",
            "_view_module_version": "1.5.0",
            "_view_name": "HTMLView",
            "description": "",
            "description_tooltip": null,
            "layout": "IPY_MODEL_6baf799bdbb942028baa9bad146fd874",
            "placeholder": "​",
            "style": "IPY_MODEL_30873711988e47129d92778478695244",
            "value": "vocab.json: 100%"
          }
        },
        "a79fad3652ec48919a0d623a07bd92c7": {
          "model_module": "@jupyter-widgets/controls",
          "model_name": "FloatProgressModel",
          "model_module_version": "1.5.0",
          "state": {
            "_dom_classes": [],
            "_model_module": "@jupyter-widgets/controls",
            "_model_module_version": "1.5.0",
            "_model_name": "FloatProgressModel",
            "_view_count": null,
            "_view_module": "@jupyter-widgets/controls",
            "_view_module_version": "1.5.0",
            "_view_name": "ProgressView",
            "bar_style": "success",
            "description": "",
            "description_tooltip": null,
            "layout": "IPY_MODEL_e5ac8526a75d402eb99981590d651e50",
            "max": 898823,
            "min": 0,
            "orientation": "horizontal",
            "style": "IPY_MODEL_b5728282fcd14301a0d1261da8008f19",
            "value": 898823
          }
        },
        "00e06bd5257d4f1fa315ed7e5d3fc9c8": {
          "model_module": "@jupyter-widgets/controls",
          "model_name": "HTMLModel",
          "model_module_version": "1.5.0",
          "state": {
            "_dom_classes": [],
            "_model_module": "@jupyter-widgets/controls",
            "_model_module_version": "1.5.0",
            "_model_name": "HTMLModel",
            "_view_count": null,
            "_view_module": "@jupyter-widgets/controls",
            "_view_module_version": "1.5.0",
            "_view_name": "HTMLView",
            "description": "",
            "description_tooltip": null,
            "layout": "IPY_MODEL_2da4d0f9a4ce4f10a56f4832b1ed2d31",
            "placeholder": "​",
            "style": "IPY_MODEL_e553e76e101248f192888610bfd864bb",
            "value": " 899k/899k [00:01&lt;00:00, 853kB/s]"
          }
        },
        "bc7dc376acb645f9b2956f1b1b07230b": {
          "model_module": "@jupyter-widgets/base",
          "model_name": "LayoutModel",
          "model_module_version": "1.2.0",
          "state": {
            "_model_module": "@jupyter-widgets/base",
            "_model_module_version": "1.2.0",
            "_model_name": "LayoutModel",
            "_view_count": null,
            "_view_module": "@jupyter-widgets/base",
            "_view_module_version": "1.2.0",
            "_view_name": "LayoutView",
            "align_content": null,
            "align_items": null,
            "align_self": null,
            "border": null,
            "bottom": null,
            "display": null,
            "flex": null,
            "flex_flow": null,
            "grid_area": null,
            "grid_auto_columns": null,
            "grid_auto_flow": null,
            "grid_auto_rows": null,
            "grid_column": null,
            "grid_gap": null,
            "grid_row": null,
            "grid_template_areas": null,
            "grid_template_columns": null,
            "grid_template_rows": null,
            "height": null,
            "justify_content": null,
            "justify_items": null,
            "left": null,
            "margin": null,
            "max_height": null,
            "max_width": null,
            "min_height": null,
            "min_width": null,
            "object_fit": null,
            "object_position": null,
            "order": null,
            "overflow": null,
            "overflow_x": null,
            "overflow_y": null,
            "padding": null,
            "right": null,
            "top": null,
            "visibility": null,
            "width": null
          }
        },
        "6baf799bdbb942028baa9bad146fd874": {
          "model_module": "@jupyter-widgets/base",
          "model_name": "LayoutModel",
          "model_module_version": "1.2.0",
          "state": {
            "_model_module": "@jupyter-widgets/base",
            "_model_module_version": "1.2.0",
            "_model_name": "LayoutModel",
            "_view_count": null,
            "_view_module": "@jupyter-widgets/base",
            "_view_module_version": "1.2.0",
            "_view_name": "LayoutView",
            "align_content": null,
            "align_items": null,
            "align_self": null,
            "border": null,
            "bottom": null,
            "display": null,
            "flex": null,
            "flex_flow": null,
            "grid_area": null,
            "grid_auto_columns": null,
            "grid_auto_flow": null,
            "grid_auto_rows": null,
            "grid_column": null,
            "grid_gap": null,
            "grid_row": null,
            "grid_template_areas": null,
            "grid_template_columns": null,
            "grid_template_rows": null,
            "height": null,
            "justify_content": null,
            "justify_items": null,
            "left": null,
            "margin": null,
            "max_height": null,
            "max_width": null,
            "min_height": null,
            "min_width": null,
            "object_fit": null,
            "object_position": null,
            "order": null,
            "overflow": null,
            "overflow_x": null,
            "overflow_y": null,
            "padding": null,
            "right": null,
            "top": null,
            "visibility": null,
            "width": null
          }
        },
        "30873711988e47129d92778478695244": {
          "model_module": "@jupyter-widgets/controls",
          "model_name": "DescriptionStyleModel",
          "model_module_version": "1.5.0",
          "state": {
            "_model_module": "@jupyter-widgets/controls",
            "_model_module_version": "1.5.0",
            "_model_name": "DescriptionStyleModel",
            "_view_count": null,
            "_view_module": "@jupyter-widgets/base",
            "_view_module_version": "1.2.0",
            "_view_name": "StyleView",
            "description_width": ""
          }
        },
        "e5ac8526a75d402eb99981590d651e50": {
          "model_module": "@jupyter-widgets/base",
          "model_name": "LayoutModel",
          "model_module_version": "1.2.0",
          "state": {
            "_model_module": "@jupyter-widgets/base",
            "_model_module_version": "1.2.0",
            "_model_name": "LayoutModel",
            "_view_count": null,
            "_view_module": "@jupyter-widgets/base",
            "_view_module_version": "1.2.0",
            "_view_name": "LayoutView",
            "align_content": null,
            "align_items": null,
            "align_self": null,
            "border": null,
            "bottom": null,
            "display": null,
            "flex": null,
            "flex_flow": null,
            "grid_area": null,
            "grid_auto_columns": null,
            "grid_auto_flow": null,
            "grid_auto_rows": null,
            "grid_column": null,
            "grid_gap": null,
            "grid_row": null,
            "grid_template_areas": null,
            "grid_template_columns": null,
            "grid_template_rows": null,
            "height": null,
            "justify_content": null,
            "justify_items": null,
            "left": null,
            "margin": null,
            "max_height": null,
            "max_width": null,
            "min_height": null,
            "min_width": null,
            "object_fit": null,
            "object_position": null,
            "order": null,
            "overflow": null,
            "overflow_x": null,
            "overflow_y": null,
            "padding": null,
            "right": null,
            "top": null,
            "visibility": null,
            "width": null
          }
        },
        "b5728282fcd14301a0d1261da8008f19": {
          "model_module": "@jupyter-widgets/controls",
          "model_name": "ProgressStyleModel",
          "model_module_version": "1.5.0",
          "state": {
            "_model_module": "@jupyter-widgets/controls",
            "_model_module_version": "1.5.0",
            "_model_name": "ProgressStyleModel",
            "_view_count": null,
            "_view_module": "@jupyter-widgets/base",
            "_view_module_version": "1.2.0",
            "_view_name": "StyleView",
            "bar_color": null,
            "description_width": ""
          }
        },
        "2da4d0f9a4ce4f10a56f4832b1ed2d31": {
          "model_module": "@jupyter-widgets/base",
          "model_name": "LayoutModel",
          "model_module_version": "1.2.0",
          "state": {
            "_model_module": "@jupyter-widgets/base",
            "_model_module_version": "1.2.0",
            "_model_name": "LayoutModel",
            "_view_count": null,
            "_view_module": "@jupyter-widgets/base",
            "_view_module_version": "1.2.0",
            "_view_name": "LayoutView",
            "align_content": null,
            "align_items": null,
            "align_self": null,
            "border": null,
            "bottom": null,
            "display": null,
            "flex": null,
            "flex_flow": null,
            "grid_area": null,
            "grid_auto_columns": null,
            "grid_auto_flow": null,
            "grid_auto_rows": null,
            "grid_column": null,
            "grid_gap": null,
            "grid_row": null,
            "grid_template_areas": null,
            "grid_template_columns": null,
            "grid_template_rows": null,
            "height": null,
            "justify_content": null,
            "justify_items": null,
            "left": null,
            "margin": null,
            "max_height": null,
            "max_width": null,
            "min_height": null,
            "min_width": null,
            "object_fit": null,
            "object_position": null,
            "order": null,
            "overflow": null,
            "overflow_x": null,
            "overflow_y": null,
            "padding": null,
            "right": null,
            "top": null,
            "visibility": null,
            "width": null
          }
        },
        "e553e76e101248f192888610bfd864bb": {
          "model_module": "@jupyter-widgets/controls",
          "model_name": "DescriptionStyleModel",
          "model_module_version": "1.5.0",
          "state": {
            "_model_module": "@jupyter-widgets/controls",
            "_model_module_version": "1.5.0",
            "_model_name": "DescriptionStyleModel",
            "_view_count": null,
            "_view_module": "@jupyter-widgets/base",
            "_view_module_version": "1.2.0",
            "_view_name": "StyleView",
            "description_width": ""
          }
        },
        "987f839a2a604b3797728a61e4b27a9d": {
          "model_module": "@jupyter-widgets/controls",
          "model_name": "HBoxModel",
          "model_module_version": "1.5.0",
          "state": {
            "_dom_classes": [],
            "_model_module": "@jupyter-widgets/controls",
            "_model_module_version": "1.5.0",
            "_model_name": "HBoxModel",
            "_view_count": null,
            "_view_module": "@jupyter-widgets/controls",
            "_view_module_version": "1.5.0",
            "_view_name": "HBoxView",
            "box_style": "",
            "children": [
              "IPY_MODEL_6de80e3d9c3b444da894f6c32dfe7d4e",
              "IPY_MODEL_e2231bdf378246a7ae6580d865abbc69",
              "IPY_MODEL_283a602ea9b541d49a2448e5b5806591"
            ],
            "layout": "IPY_MODEL_d02acd43ae994474964f18ce8e3aba0a"
          }
        },
        "6de80e3d9c3b444da894f6c32dfe7d4e": {
          "model_module": "@jupyter-widgets/controls",
          "model_name": "HTMLModel",
          "model_module_version": "1.5.0",
          "state": {
            "_dom_classes": [],
            "_model_module": "@jupyter-widgets/controls",
            "_model_module_version": "1.5.0",
            "_model_name": "HTMLModel",
            "_view_count": null,
            "_view_module": "@jupyter-widgets/controls",
            "_view_module_version": "1.5.0",
            "_view_name": "HTMLView",
            "description": "",
            "description_tooltip": null,
            "layout": "IPY_MODEL_794a60c4402745349e876fc533c9fa91",
            "placeholder": "​",
            "style": "IPY_MODEL_33e3f4996a3a4ace99f2cbfb1234cc88",
            "value": "merges.txt: 100%"
          }
        },
        "e2231bdf378246a7ae6580d865abbc69": {
          "model_module": "@jupyter-widgets/controls",
          "model_name": "FloatProgressModel",
          "model_module_version": "1.5.0",
          "state": {
            "_dom_classes": [],
            "_model_module": "@jupyter-widgets/controls",
            "_model_module_version": "1.5.0",
            "_model_name": "FloatProgressModel",
            "_view_count": null,
            "_view_module": "@jupyter-widgets/controls",
            "_view_module_version": "1.5.0",
            "_view_name": "ProgressView",
            "bar_style": "success",
            "description": "",
            "description_tooltip": null,
            "layout": "IPY_MODEL_a48100281588400a9d48527886c04879",
            "max": 456318,
            "min": 0,
            "orientation": "horizontal",
            "style": "IPY_MODEL_3c372eacc5b14aa19e28e06394c8305f",
            "value": 456318
          }
        },
        "283a602ea9b541d49a2448e5b5806591": {
          "model_module": "@jupyter-widgets/controls",
          "model_name": "HTMLModel",
          "model_module_version": "1.5.0",
          "state": {
            "_dom_classes": [],
            "_model_module": "@jupyter-widgets/controls",
            "_model_module_version": "1.5.0",
            "_model_name": "HTMLModel",
            "_view_count": null,
            "_view_module": "@jupyter-widgets/controls",
            "_view_module_version": "1.5.0",
            "_view_name": "HTMLView",
            "description": "",
            "description_tooltip": null,
            "layout": "IPY_MODEL_78ad285397934b34a0525dfc92abbca3",
            "placeholder": "​",
            "style": "IPY_MODEL_7f6548bd3e304305a5016ca480836ec5",
            "value": " 456k/456k [00:00&lt;00:00, 28.0MB/s]"
          }
        },
        "d02acd43ae994474964f18ce8e3aba0a": {
          "model_module": "@jupyter-widgets/base",
          "model_name": "LayoutModel",
          "model_module_version": "1.2.0",
          "state": {
            "_model_module": "@jupyter-widgets/base",
            "_model_module_version": "1.2.0",
            "_model_name": "LayoutModel",
            "_view_count": null,
            "_view_module": "@jupyter-widgets/base",
            "_view_module_version": "1.2.0",
            "_view_name": "LayoutView",
            "align_content": null,
            "align_items": null,
            "align_self": null,
            "border": null,
            "bottom": null,
            "display": null,
            "flex": null,
            "flex_flow": null,
            "grid_area": null,
            "grid_auto_columns": null,
            "grid_auto_flow": null,
            "grid_auto_rows": null,
            "grid_column": null,
            "grid_gap": null,
            "grid_row": null,
            "grid_template_areas": null,
            "grid_template_columns": null,
            "grid_template_rows": null,
            "height": null,
            "justify_content": null,
            "justify_items": null,
            "left": null,
            "margin": null,
            "max_height": null,
            "max_width": null,
            "min_height": null,
            "min_width": null,
            "object_fit": null,
            "object_position": null,
            "order": null,
            "overflow": null,
            "overflow_x": null,
            "overflow_y": null,
            "padding": null,
            "right": null,
            "top": null,
            "visibility": null,
            "width": null
          }
        },
        "794a60c4402745349e876fc533c9fa91": {
          "model_module": "@jupyter-widgets/base",
          "model_name": "LayoutModel",
          "model_module_version": "1.2.0",
          "state": {
            "_model_module": "@jupyter-widgets/base",
            "_model_module_version": "1.2.0",
            "_model_name": "LayoutModel",
            "_view_count": null,
            "_view_module": "@jupyter-widgets/base",
            "_view_module_version": "1.2.0",
            "_view_name": "LayoutView",
            "align_content": null,
            "align_items": null,
            "align_self": null,
            "border": null,
            "bottom": null,
            "display": null,
            "flex": null,
            "flex_flow": null,
            "grid_area": null,
            "grid_auto_columns": null,
            "grid_auto_flow": null,
            "grid_auto_rows": null,
            "grid_column": null,
            "grid_gap": null,
            "grid_row": null,
            "grid_template_areas": null,
            "grid_template_columns": null,
            "grid_template_rows": null,
            "height": null,
            "justify_content": null,
            "justify_items": null,
            "left": null,
            "margin": null,
            "max_height": null,
            "max_width": null,
            "min_height": null,
            "min_width": null,
            "object_fit": null,
            "object_position": null,
            "order": null,
            "overflow": null,
            "overflow_x": null,
            "overflow_y": null,
            "padding": null,
            "right": null,
            "top": null,
            "visibility": null,
            "width": null
          }
        },
        "33e3f4996a3a4ace99f2cbfb1234cc88": {
          "model_module": "@jupyter-widgets/controls",
          "model_name": "DescriptionStyleModel",
          "model_module_version": "1.5.0",
          "state": {
            "_model_module": "@jupyter-widgets/controls",
            "_model_module_version": "1.5.0",
            "_model_name": "DescriptionStyleModel",
            "_view_count": null,
            "_view_module": "@jupyter-widgets/base",
            "_view_module_version": "1.2.0",
            "_view_name": "StyleView",
            "description_width": ""
          }
        },
        "a48100281588400a9d48527886c04879": {
          "model_module": "@jupyter-widgets/base",
          "model_name": "LayoutModel",
          "model_module_version": "1.2.0",
          "state": {
            "_model_module": "@jupyter-widgets/base",
            "_model_module_version": "1.2.0",
            "_model_name": "LayoutModel",
            "_view_count": null,
            "_view_module": "@jupyter-widgets/base",
            "_view_module_version": "1.2.0",
            "_view_name": "LayoutView",
            "align_content": null,
            "align_items": null,
            "align_self": null,
            "border": null,
            "bottom": null,
            "display": null,
            "flex": null,
            "flex_flow": null,
            "grid_area": null,
            "grid_auto_columns": null,
            "grid_auto_flow": null,
            "grid_auto_rows": null,
            "grid_column": null,
            "grid_gap": null,
            "grid_row": null,
            "grid_template_areas": null,
            "grid_template_columns": null,
            "grid_template_rows": null,
            "height": null,
            "justify_content": null,
            "justify_items": null,
            "left": null,
            "margin": null,
            "max_height": null,
            "max_width": null,
            "min_height": null,
            "min_width": null,
            "object_fit": null,
            "object_position": null,
            "order": null,
            "overflow": null,
            "overflow_x": null,
            "overflow_y": null,
            "padding": null,
            "right": null,
            "top": null,
            "visibility": null,
            "width": null
          }
        },
        "3c372eacc5b14aa19e28e06394c8305f": {
          "model_module": "@jupyter-widgets/controls",
          "model_name": "ProgressStyleModel",
          "model_module_version": "1.5.0",
          "state": {
            "_model_module": "@jupyter-widgets/controls",
            "_model_module_version": "1.5.0",
            "_model_name": "ProgressStyleModel",
            "_view_count": null,
            "_view_module": "@jupyter-widgets/base",
            "_view_module_version": "1.2.0",
            "_view_name": "StyleView",
            "bar_color": null,
            "description_width": ""
          }
        },
        "78ad285397934b34a0525dfc92abbca3": {
          "model_module": "@jupyter-widgets/base",
          "model_name": "LayoutModel",
          "model_module_version": "1.2.0",
          "state": {
            "_model_module": "@jupyter-widgets/base",
            "_model_module_version": "1.2.0",
            "_model_name": "LayoutModel",
            "_view_count": null,
            "_view_module": "@jupyter-widgets/base",
            "_view_module_version": "1.2.0",
            "_view_name": "LayoutView",
            "align_content": null,
            "align_items": null,
            "align_self": null,
            "border": null,
            "bottom": null,
            "display": null,
            "flex": null,
            "flex_flow": null,
            "grid_area": null,
            "grid_auto_columns": null,
            "grid_auto_flow": null,
            "grid_auto_rows": null,
            "grid_column": null,
            "grid_gap": null,
            "grid_row": null,
            "grid_template_areas": null,
            "grid_template_columns": null,
            "grid_template_rows": null,
            "height": null,
            "justify_content": null,
            "justify_items": null,
            "left": null,
            "margin": null,
            "max_height": null,
            "max_width": null,
            "min_height": null,
            "min_width": null,
            "object_fit": null,
            "object_position": null,
            "order": null,
            "overflow": null,
            "overflow_x": null,
            "overflow_y": null,
            "padding": null,
            "right": null,
            "top": null,
            "visibility": null,
            "width": null
          }
        },
        "7f6548bd3e304305a5016ca480836ec5": {
          "model_module": "@jupyter-widgets/controls",
          "model_name": "DescriptionStyleModel",
          "model_module_version": "1.5.0",
          "state": {
            "_model_module": "@jupyter-widgets/controls",
            "_model_module_version": "1.5.0",
            "_model_name": "DescriptionStyleModel",
            "_view_count": null,
            "_view_module": "@jupyter-widgets/base",
            "_view_module_version": "1.2.0",
            "_view_name": "StyleView",
            "description_width": ""
          }
        },
        "aa836128304040338f4a5dafb820335c": {
          "model_module": "@jupyter-widgets/controls",
          "model_name": "HBoxModel",
          "model_module_version": "1.5.0",
          "state": {
            "_dom_classes": [],
            "_model_module": "@jupyter-widgets/controls",
            "_model_module_version": "1.5.0",
            "_model_name": "HBoxModel",
            "_view_count": null,
            "_view_module": "@jupyter-widgets/controls",
            "_view_module_version": "1.5.0",
            "_view_name": "HBoxView",
            "box_style": "",
            "children": [
              "IPY_MODEL_99f59fc337b7475a8695c32d4d481ae2",
              "IPY_MODEL_e02884d9d9d64524911cbbce037b1ce7",
              "IPY_MODEL_84b6f4dedd2e416c923f2c16045ae4d8"
            ],
            "layout": "IPY_MODEL_9d6e3f7bc2aa499bbac28ec7ec13abe3"
          }
        },
        "99f59fc337b7475a8695c32d4d481ae2": {
          "model_module": "@jupyter-widgets/controls",
          "model_name": "HTMLModel",
          "model_module_version": "1.5.0",
          "state": {
            "_dom_classes": [],
            "_model_module": "@jupyter-widgets/controls",
            "_model_module_version": "1.5.0",
            "_model_name": "HTMLModel",
            "_view_count": null,
            "_view_module": "@jupyter-widgets/controls",
            "_view_module_version": "1.5.0",
            "_view_name": "HTMLView",
            "description": "",
            "description_tooltip": null,
            "layout": "IPY_MODEL_15453898491f41a998dbd254048e2125",
            "placeholder": "​",
            "style": "IPY_MODEL_e715c5e12ebb40b99282e8e4c02913ea",
            "value": "tokenizer.json: 100%"
          }
        },
        "e02884d9d9d64524911cbbce037b1ce7": {
          "model_module": "@jupyter-widgets/controls",
          "model_name": "FloatProgressModel",
          "model_module_version": "1.5.0",
          "state": {
            "_dom_classes": [],
            "_model_module": "@jupyter-widgets/controls",
            "_model_module_version": "1.5.0",
            "_model_name": "FloatProgressModel",
            "_view_count": null,
            "_view_module": "@jupyter-widgets/controls",
            "_view_module_version": "1.5.0",
            "_view_name": "ProgressView",
            "bar_style": "success",
            "description": "",
            "description_tooltip": null,
            "layout": "IPY_MODEL_60078c7c99ac4a06ab89fea540d4ff4b",
            "max": 1355863,
            "min": 0,
            "orientation": "horizontal",
            "style": "IPY_MODEL_28ec250265de47cdb21dcc0695d609de",
            "value": 1355863
          }
        },
        "84b6f4dedd2e416c923f2c16045ae4d8": {
          "model_module": "@jupyter-widgets/controls",
          "model_name": "HTMLModel",
          "model_module_version": "1.5.0",
          "state": {
            "_dom_classes": [],
            "_model_module": "@jupyter-widgets/controls",
            "_model_module_version": "1.5.0",
            "_model_name": "HTMLModel",
            "_view_count": null,
            "_view_module": "@jupyter-widgets/controls",
            "_view_module_version": "1.5.0",
            "_view_name": "HTMLView",
            "description": "",
            "description_tooltip": null,
            "layout": "IPY_MODEL_f99eb3ef511345d09ed74f471792ee8f",
            "placeholder": "​",
            "style": "IPY_MODEL_497aee0a3c8d44718db205be0212ec9a",
            "value": " 1.36M/1.36M [00:00&lt;00:00, 6.04MB/s]"
          }
        },
        "9d6e3f7bc2aa499bbac28ec7ec13abe3": {
          "model_module": "@jupyter-widgets/base",
          "model_name": "LayoutModel",
          "model_module_version": "1.2.0",
          "state": {
            "_model_module": "@jupyter-widgets/base",
            "_model_module_version": "1.2.0",
            "_model_name": "LayoutModel",
            "_view_count": null,
            "_view_module": "@jupyter-widgets/base",
            "_view_module_version": "1.2.0",
            "_view_name": "LayoutView",
            "align_content": null,
            "align_items": null,
            "align_self": null,
            "border": null,
            "bottom": null,
            "display": null,
            "flex": null,
            "flex_flow": null,
            "grid_area": null,
            "grid_auto_columns": null,
            "grid_auto_flow": null,
            "grid_auto_rows": null,
            "grid_column": null,
            "grid_gap": null,
            "grid_row": null,
            "grid_template_areas": null,
            "grid_template_columns": null,
            "grid_template_rows": null,
            "height": null,
            "justify_content": null,
            "justify_items": null,
            "left": null,
            "margin": null,
            "max_height": null,
            "max_width": null,
            "min_height": null,
            "min_width": null,
            "object_fit": null,
            "object_position": null,
            "order": null,
            "overflow": null,
            "overflow_x": null,
            "overflow_y": null,
            "padding": null,
            "right": null,
            "top": null,
            "visibility": null,
            "width": null
          }
        },
        "15453898491f41a998dbd254048e2125": {
          "model_module": "@jupyter-widgets/base",
          "model_name": "LayoutModel",
          "model_module_version": "1.2.0",
          "state": {
            "_model_module": "@jupyter-widgets/base",
            "_model_module_version": "1.2.0",
            "_model_name": "LayoutModel",
            "_view_count": null,
            "_view_module": "@jupyter-widgets/base",
            "_view_module_version": "1.2.0",
            "_view_name": "LayoutView",
            "align_content": null,
            "align_items": null,
            "align_self": null,
            "border": null,
            "bottom": null,
            "display": null,
            "flex": null,
            "flex_flow": null,
            "grid_area": null,
            "grid_auto_columns": null,
            "grid_auto_flow": null,
            "grid_auto_rows": null,
            "grid_column": null,
            "grid_gap": null,
            "grid_row": null,
            "grid_template_areas": null,
            "grid_template_columns": null,
            "grid_template_rows": null,
            "height": null,
            "justify_content": null,
            "justify_items": null,
            "left": null,
            "margin": null,
            "max_height": null,
            "max_width": null,
            "min_height": null,
            "min_width": null,
            "object_fit": null,
            "object_position": null,
            "order": null,
            "overflow": null,
            "overflow_x": null,
            "overflow_y": null,
            "padding": null,
            "right": null,
            "top": null,
            "visibility": null,
            "width": null
          }
        },
        "e715c5e12ebb40b99282e8e4c02913ea": {
          "model_module": "@jupyter-widgets/controls",
          "model_name": "DescriptionStyleModel",
          "model_module_version": "1.5.0",
          "state": {
            "_model_module": "@jupyter-widgets/controls",
            "_model_module_version": "1.5.0",
            "_model_name": "DescriptionStyleModel",
            "_view_count": null,
            "_view_module": "@jupyter-widgets/base",
            "_view_module_version": "1.2.0",
            "_view_name": "StyleView",
            "description_width": ""
          }
        },
        "60078c7c99ac4a06ab89fea540d4ff4b": {
          "model_module": "@jupyter-widgets/base",
          "model_name": "LayoutModel",
          "model_module_version": "1.2.0",
          "state": {
            "_model_module": "@jupyter-widgets/base",
            "_model_module_version": "1.2.0",
            "_model_name": "LayoutModel",
            "_view_count": null,
            "_view_module": "@jupyter-widgets/base",
            "_view_module_version": "1.2.0",
            "_view_name": "LayoutView",
            "align_content": null,
            "align_items": null,
            "align_self": null,
            "border": null,
            "bottom": null,
            "display": null,
            "flex": null,
            "flex_flow": null,
            "grid_area": null,
            "grid_auto_columns": null,
            "grid_auto_flow": null,
            "grid_auto_rows": null,
            "grid_column": null,
            "grid_gap": null,
            "grid_row": null,
            "grid_template_areas": null,
            "grid_template_columns": null,
            "grid_template_rows": null,
            "height": null,
            "justify_content": null,
            "justify_items": null,
            "left": null,
            "margin": null,
            "max_height": null,
            "max_width": null,
            "min_height": null,
            "min_width": null,
            "object_fit": null,
            "object_position": null,
            "order": null,
            "overflow": null,
            "overflow_x": null,
            "overflow_y": null,
            "padding": null,
            "right": null,
            "top": null,
            "visibility": null,
            "width": null
          }
        },
        "28ec250265de47cdb21dcc0695d609de": {
          "model_module": "@jupyter-widgets/controls",
          "model_name": "ProgressStyleModel",
          "model_module_version": "1.5.0",
          "state": {
            "_model_module": "@jupyter-widgets/controls",
            "_model_module_version": "1.5.0",
            "_model_name": "ProgressStyleModel",
            "_view_count": null,
            "_view_module": "@jupyter-widgets/base",
            "_view_module_version": "1.2.0",
            "_view_name": "StyleView",
            "bar_color": null,
            "description_width": ""
          }
        },
        "f99eb3ef511345d09ed74f471792ee8f": {
          "model_module": "@jupyter-widgets/base",
          "model_name": "LayoutModel",
          "model_module_version": "1.2.0",
          "state": {
            "_model_module": "@jupyter-widgets/base",
            "_model_module_version": "1.2.0",
            "_model_name": "LayoutModel",
            "_view_count": null,
            "_view_module": "@jupyter-widgets/base",
            "_view_module_version": "1.2.0",
            "_view_name": "LayoutView",
            "align_content": null,
            "align_items": null,
            "align_self": null,
            "border": null,
            "bottom": null,
            "display": null,
            "flex": null,
            "flex_flow": null,
            "grid_area": null,
            "grid_auto_columns": null,
            "grid_auto_flow": null,
            "grid_auto_rows": null,
            "grid_column": null,
            "grid_gap": null,
            "grid_row": null,
            "grid_template_areas": null,
            "grid_template_columns": null,
            "grid_template_rows": null,
            "height": null,
            "justify_content": null,
            "justify_items": null,
            "left": null,
            "margin": null,
            "max_height": null,
            "max_width": null,
            "min_height": null,
            "min_width": null,
            "object_fit": null,
            "object_position": null,
            "order": null,
            "overflow": null,
            "overflow_x": null,
            "overflow_y": null,
            "padding": null,
            "right": null,
            "top": null,
            "visibility": null,
            "width": null
          }
        },
        "497aee0a3c8d44718db205be0212ec9a": {
          "model_module": "@jupyter-widgets/controls",
          "model_name": "DescriptionStyleModel",
          "model_module_version": "1.5.0",
          "state": {
            "_model_module": "@jupyter-widgets/controls",
            "_model_module_version": "1.5.0",
            "_model_name": "DescriptionStyleModel",
            "_view_count": null,
            "_view_module": "@jupyter-widgets/base",
            "_view_module_version": "1.2.0",
            "_view_name": "StyleView",
            "description_width": ""
          }
        }
      }
    }
  },
  "cells": [
    {
      "cell_type": "markdown",
      "source": [
        "![image.png](data:image/png;base64,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)"
      ],
      "metadata": {
        "id": "UTywIwmrlSzI"
      }
    },
    {
      "cell_type": "markdown",
      "source": [
        "# Steps:\n",
        "\n",
        "\n",
        "\n",
        "1.   Importing Hugging Face library\n",
        "2.   Using / build Pipeline to call LLM\n",
        "3.   Summarize text\n",
        "\n",
        "\n",
        "\n",
        "\n",
        "\n"
      ],
      "metadata": {
        "id": "lwXx_zXtF6Of"
      }
    },
    {
      "cell_type": "code",
      "source": [
        "!pip install transformers"
      ],
      "metadata": {
        "colab": {
          "base_uri": "https://localhost:8080/"
        },
        "id": "9zAYPw8WLLRd",
        "outputId": "cbcdc185-f929-46f1-8fa2-3c826c85a059"
      },
      "execution_count": null,
      "outputs": [
        {
          "output_type": "stream",
          "name": "stdout",
          "text": [
            "Requirement already satisfied: transformers in /usr/local/lib/python3.10/dist-packages (4.47.1)\n",
            "Requirement already satisfied: filelock in /usr/local/lib/python3.10/dist-packages (from transformers) (3.16.1)\n",
            "Requirement already satisfied: huggingface-hub<1.0,>=0.24.0 in /usr/local/lib/python3.10/dist-packages (from transformers) (0.27.0)\n",
            "Requirement already satisfied: numpy>=1.17 in /usr/local/lib/python3.10/dist-packages (from transformers) (1.26.4)\n",
            "Requirement already satisfied: packaging>=20.0 in /usr/local/lib/python3.10/dist-packages (from transformers) (24.2)\n",
            "Requirement already satisfied: pyyaml>=5.1 in /usr/local/lib/python3.10/dist-packages (from transformers) (6.0.2)\n",
            "Requirement already satisfied: regex!=2019.12.17 in /usr/local/lib/python3.10/dist-packages (from transformers) (2024.11.6)\n",
            "Requirement already satisfied: requests in /usr/local/lib/python3.10/dist-packages (from transformers) (2.32.3)\n",
            "Requirement already satisfied: tokenizers<0.22,>=0.21 in /usr/local/lib/python3.10/dist-packages (from transformers) (0.21.0)\n",
            "Requirement already satisfied: safetensors>=0.4.1 in /usr/local/lib/python3.10/dist-packages (from transformers) (0.4.5)\n",
            "Requirement already satisfied: tqdm>=4.27 in /usr/local/lib/python3.10/dist-packages (from transformers) (4.67.1)\n",
            "Requirement already satisfied: fsspec>=2023.5.0 in /usr/local/lib/python3.10/dist-packages (from huggingface-hub<1.0,>=0.24.0->transformers) (2024.10.0)\n",
            "Requirement already satisfied: typing-extensions>=3.7.4.3 in /usr/local/lib/python3.10/dist-packages (from huggingface-hub<1.0,>=0.24.0->transformers) (4.12.2)\n",
            "Requirement already satisfied: charset-normalizer<4,>=2 in /usr/local/lib/python3.10/dist-packages (from requests->transformers) (3.4.0)\n",
            "Requirement already satisfied: idna<4,>=2.5 in /usr/local/lib/python3.10/dist-packages (from requests->transformers) (3.10)\n",
            "Requirement already satisfied: urllib3<3,>=1.21.1 in /usr/local/lib/python3.10/dist-packages (from requests->transformers) (2.2.3)\n",
            "Requirement already satisfied: certifi>=2017.4.17 in /usr/local/lib/python3.10/dist-packages (from requests->transformers) (2024.12.14)\n"
          ]
        }
      ]
    },
    {
      "cell_type": "code",
      "source": [
        "from transformers import pipeline"
      ],
      "metadata": {
        "id": "eyDECV6yLLWi"
      },
      "execution_count": null,
      "outputs": []
    },
    {
      "cell_type": "code",
      "source": [
        "summarizer_model = pipeline(\"summarization\")"
      ],
      "metadata": {
        "colab": {
          "base_uri": "https://localhost:8080/"
        },
        "id": "jhvyDv0hLLaK",
        "outputId": "72263ab6-ecfa-4cd5-d8bb-c2c3948469ba"
      },
      "execution_count": null,
      "outputs": [
        {
          "output_type": "stream",
          "name": "stderr",
          "text": [
            "No model was supplied, defaulted to sshleifer/distilbart-cnn-12-6 and revision a4f8f3e (https://huggingface.co/sshleifer/distilbart-cnn-12-6).\n",
            "Using a pipeline without specifying a model name and revision in production is not recommended.\n",
            "Device set to use cuda:0\n"
          ]
        }
      ]
    },
    {
      "cell_type": "code",
      "source": [
        "text = \"\"\"\n",
        "Muhammad Ali Jinnah[a] (born Mahomedali Jinnahbhai;[b] 25 December 1876 – 11 September 1948) was a barrister, politician, and the founder of Pakistan. Jinnah served as the leader of the All-India Muslim League from 1913 until the inception of Pakistan on 14 August 1947 and then as Pakistan's first governor-general until his death.\n",
        "\n",
        "Born at Wazir Mansion in Karachi, Jinnah was trained as a barrister at Lincoln's Inn in London, England. Upon his return to India, he enrolled at the Bombay High Court, and took an interest in national politics, which eventually replaced his legal practice. Jinnah rose to prominence in the Indian National Congress in the first two decades of the 20th century. In these early years of his political career, Jinnah advocated Hindu–Muslim unity, helping to shape the 1916 Lucknow Pact between the Congress and the All-India Muslim League, in which Jinnah had also become prominent. Jinnah became a key leader in the All-India Home Rule League, and proposed a fourteen-point constitutional reform plan to safeguard the political rights of Muslims in the Indian subcontinent. In 1920, however, Jinnah resigned from the Congress when it agreed to follow a campaign of satyagraha, which he regarded as political anarchy.\n",
        "\n",
        "By 1940, Jinnah had come to believe that the Muslims of the subcontinent should have their own state to avoid the possible marginalised status they might be reduced to in an independent Hindu–Muslim state. In that year, the Muslim League, led by Jinnah, passed the Lahore Resolution, demanding a separate nation for Indian Muslims. During the Second World War, the League gained strength while leaders of the Congress were imprisoned, and in the provincial elections held shortly after the war, it won most of the seats reserved for Muslims. Ultimately, the Congress and the Muslim League could not reach a power-sharing formula that would allow the entirety of British India to be united as a single state following independence, leading all parties to agree instead to the independence of a Hindu-majority India, and for a predominantly Muslim state of Pakistan.\n",
        "\"\"\""
      ],
      "metadata": {
        "id": "1STt-l3FLLdg"
      },
      "execution_count": null,
      "outputs": []
    },
    {
      "cell_type": "code",
      "source": [
        "text"
      ],
      "metadata": {
        "id": "2LNiZTd9QohK",
        "outputId": "7d684ef3-ecfc-437d-f9ab-521e12883aeb",
        "colab": {
          "base_uri": "https://localhost:8080/",
          "height": 175
        }
      },
      "execution_count": null,
      "outputs": [
        {
          "output_type": "execute_result",
          "data": {
            "text/plain": [
              "\"\\nMuhammad Ali Jinnah[a] (born Mahomedali Jinnahbhai;[b] 25 December 1876 – 11 September 1948) was a barrister, politician, and the founder of Pakistan. Jinnah served as the leader of the All-India Muslim League from 1913 until the inception of Pakistan on 14 August 1947 and then as Pakistan's first governor-general until his death.\\n\\nBorn at Wazir Mansion in Karachi, Jinnah was trained as a barrister at Lincoln's Inn in London, England. Upon his return to India, he enrolled at the Bombay High Court, and took an interest in national politics, which eventually replaced his legal practice. Jinnah rose to prominence in the Indian National Congress in the first two decades of the 20th century. In these early years of his political career, Jinnah advocated Hindu–Muslim unity, helping to shape the 1916 Lucknow Pact between the Congress and the All-India Muslim League, in which Jinnah had also become prominent. Jinnah became a key leader in the All-India Home Rule League, and proposed a fourteen-point constitutional reform plan to safeguard the political rights of Muslims in the Indian subcontinent. In 1920, however, Jinnah resigned from the Congress when it agreed to follow a campaign of satyagraha, which he regarded as political anarchy.\\n\\nBy 1940, Jinnah had come to believe that the Muslims of the subcontinent should have their own state to avoid the possible marginalised status they might be reduced to in an independent Hindu–Muslim state. In that year, the Muslim League, led by Jinnah, passed the Lahore Resolution, demanding a separate nation for Indian Muslims. During the Second World War, the League gained strength while leaders of the Congress were imprisoned, and in the provincial elections held shortly after the war, it won most of the seats reserved for Muslims. Ultimately, the Congress and the Muslim League could not reach a power-sharing formula that would allow the entirety of British India to be united as a single state following independence, leading all parties to agree instead to the independence of a Hindu-majority India, and for a predominantly Muslim state of Pakistan.\\n\""
            ],
            "application/vnd.google.colaboratory.intrinsic+json": {
              "type": "string"
            }
          },
          "metadata": {},
          "execution_count": 21
        }
      ]
    },
    {
      "cell_type": "code",
      "source": [
        "summarized_text = summarizer_model(text, max_length = 130, min_length = 30, do_sample = False)"
      ],
      "metadata": {
        "id": "aAYQfrwqLLgO"
      },
      "execution_count": null,
      "outputs": []
    },
    {
      "cell_type": "code",
      "source": [
        "summarized_text"
      ],
      "metadata": {
        "colab": {
          "base_uri": "https://localhost:8080/"
        },
        "id": "yrB9hpoiLLi3",
        "outputId": "100d6573-f214-41d9-c7bd-bdf7c31b92b1"
      },
      "execution_count": null,
      "outputs": [
        {
          "output_type": "execute_result",
          "data": {
            "text/plain": [
              "[{'summary_text': ' Muhammad Ali Jinnah was a barrister, politician, and the founder of Pakistan . He served as the leader of the All-India Muslim League from 1913 until the inception of Pakistan in 1947 . Jinnah rose to prominence in the Indian National Congress in the first two decades of the 20th century .'}]"
            ]
          },
          "metadata": {},
          "execution_count": 23
        }
      ]
    },
    {
      "cell_type": "code",
      "source": [
        "summarized_text1 = summarizer_model(text, max_length = 130, min_length = 30,do_sample=True)"
      ],
      "metadata": {
        "id": "AcZP9Y9XS46y"
      },
      "execution_count": null,
      "outputs": []
    },
    {
      "cell_type": "code",
      "source": [
        "summarized_text1"
      ],
      "metadata": {
        "colab": {
          "base_uri": "https://localhost:8080/"
        },
        "id": "MFMTar3LS-tX",
        "outputId": "28241672-81d1-4c5b-acf1-6901438cc0f3"
      },
      "execution_count": null,
      "outputs": [
        {
          "output_type": "execute_result",
          "data": {
            "text/plain": [
              "[{'summary_text': ' Jinnah was a barrister, politician, and the founder of Pakistan . He served as the leader of the All-India Muslim League from 1913 until the inception of Pakistan on 14 August 1947 . Jinnah rose to prominence in the Indian National Congress in the early 20th century .'}]"
            ]
          },
          "metadata": {},
          "execution_count": 25
        }
      ]
    },
    {
      "cell_type": "code",
      "source": [
        "len(text.split())"
      ],
      "metadata": {
        "colab": {
          "base_uri": "https://localhost:8080/"
        },
        "id": "GAhWxHzqRLCG",
        "outputId": "24ba12b0-a13b-4619-9a46-84edd9c64f83"
      },
      "execution_count": null,
      "outputs": [
        {
          "output_type": "execute_result",
          "data": {
            "text/plain": [
              "339"
            ]
          },
          "metadata": {},
          "execution_count": 26
        }
      ]
    },
    {
      "cell_type": "code",
      "source": [
        "len(summarized_text[0]['summary_text'].split())"
      ],
      "metadata": {
        "colab": {
          "base_uri": "https://localhost:8080/"
        },
        "id": "fYO_3AKJRQ3P",
        "outputId": "a15f7f2d-8d7f-4e9e-aecb-1b257fda9639"
      },
      "execution_count": null,
      "outputs": [
        {
          "output_type": "execute_result",
          "data": {
            "text/plain": [
              "52"
            ]
          },
          "metadata": {},
          "execution_count": 28
        }
      ]
    },
    {
      "cell_type": "code",
      "source": [
        "# call pipeline with model name\n",
        "summarizer_model1 = pipeline(\"summarization\", model = 'facebook/bart-large-cnn')"
      ],
      "metadata": {
        "id": "M7ZaLFCSRrPh",
        "colab": {
          "base_uri": "https://localhost:8080/"
        },
        "outputId": "5c2170cd-c020-469d-e77b-3da02b86cb7a"
      },
      "execution_count": null,
      "outputs": [
        {
          "output_type": "stream",
          "name": "stderr",
          "text": [
            "Device set to use cuda:0\n"
          ]
        }
      ]
    },
    {
      "cell_type": "code",
      "source": [
        "summarized_text = summarizer_model1(text, max_length = 130, min_length = 30, do_sample = False)"
      ],
      "metadata": {
        "id": "8JLyDZREXWmg"
      },
      "execution_count": null,
      "outputs": []
    },
    {
      "cell_type": "code",
      "source": [
        "summarized_text"
      ],
      "metadata": {
        "colab": {
          "base_uri": "https://localhost:8080/"
        },
        "id": "fG-S79ZGXwNS",
        "outputId": "87e4bb20-b5d5-42c4-ecde-5cdc169694fd"
      },
      "execution_count": null,
      "outputs": [
        {
          "output_type": "execute_result",
          "data": {
            "text/plain": [
              "[{'summary_text': 'Muhammad Ali Jinnah (25 December 1876 – 11 September 1948) was a barrister, politician, and the founder of Pakistan. Jinnah rose to prominence in the Indian National Congress in the first two decades of the 20th century. He served as the leader of the All-India Muslim League from 1913 until the inception of Pakistan on 14 August 1947.'}]"
            ]
          },
          "metadata": {},
          "execution_count": 34
        }
      ]
    },
    {
      "cell_type": "markdown",
      "source": [
        "# Text Summarization using a PDF file\n",
        "\n",
        "### need to read the text content from the PDF file first and then pass that text to the summarizer model.\n",
        "\n",
        "### Steps\n",
        "\n",
        "\n",
        "\n",
        "1.   Install necessary libraries: transformers for summarization, PyPDF2 for reading PDF files, and optionally reportlab for creating a sample PDF.\n",
        "2.   Read the text from the PDF file.\n",
        "3.   Summarize the extracted text.\n",
        "\n",
        "\n",
        "\n",
        "\n"
      ],
      "metadata": {
        "id": "WSkRX9VPRb_A"
      }
    },
    {
      "cell_type": "code",
      "source": [
        "# Install necessary libraries\n",
        "!pip install transformers\n",
        "from transformers import pipeline\n",
        "!pip install PyPDF2\n",
        "!pip install --upgrade PyPDF2\n",
        "from PyPDF2 import PdfReader"
      ],
      "metadata": {
        "id": "2QLDqZovRbPC",
        "colab": {
          "base_uri": "https://localhost:8080/"
        },
        "collapsed": true,
        "outputId": "3c22869f-d686-4825-b558-66a4906ff201"
      },
      "execution_count": null,
      "outputs": [
        {
          "output_type": "stream",
          "name": "stdout",
          "text": [
            "Requirement already satisfied: transformers in /usr/local/lib/python3.10/dist-packages (4.47.1)\n",
            "Requirement already satisfied: filelock in /usr/local/lib/python3.10/dist-packages (from transformers) (3.16.1)\n",
            "Requirement already satisfied: huggingface-hub<1.0,>=0.24.0 in /usr/local/lib/python3.10/dist-packages (from transformers) (0.27.0)\n",
            "Requirement already satisfied: numpy>=1.17 in /usr/local/lib/python3.10/dist-packages (from transformers) (1.26.4)\n",
            "Requirement already satisfied: packaging>=20.0 in /usr/local/lib/python3.10/dist-packages (from transformers) (24.2)\n",
            "Requirement already satisfied: pyyaml>=5.1 in /usr/local/lib/python3.10/dist-packages (from transformers) (6.0.2)\n",
            "Requirement already satisfied: regex!=2019.12.17 in /usr/local/lib/python3.10/dist-packages (from transformers) (2024.11.6)\n",
            "Requirement already satisfied: requests in /usr/local/lib/python3.10/dist-packages (from transformers) (2.32.3)\n",
            "Requirement already satisfied: tokenizers<0.22,>=0.21 in /usr/local/lib/python3.10/dist-packages (from transformers) (0.21.0)\n",
            "Requirement already satisfied: safetensors>=0.4.1 in /usr/local/lib/python3.10/dist-packages (from transformers) (0.4.5)\n",
            "Requirement already satisfied: tqdm>=4.27 in /usr/local/lib/python3.10/dist-packages (from transformers) (4.67.1)\n",
            "Requirement already satisfied: fsspec>=2023.5.0 in /usr/local/lib/python3.10/dist-packages (from huggingface-hub<1.0,>=0.24.0->transformers) (2024.10.0)\n",
            "Requirement already satisfied: typing-extensions>=3.7.4.3 in /usr/local/lib/python3.10/dist-packages (from huggingface-hub<1.0,>=0.24.0->transformers) (4.12.2)\n",
            "Requirement already satisfied: charset-normalizer<4,>=2 in /usr/local/lib/python3.10/dist-packages (from requests->transformers) (3.4.0)\n",
            "Requirement already satisfied: idna<4,>=2.5 in /usr/local/lib/python3.10/dist-packages (from requests->transformers) (3.10)\n",
            "Requirement already satisfied: urllib3<3,>=1.21.1 in /usr/local/lib/python3.10/dist-packages (from requests->transformers) (2.2.3)\n",
            "Requirement already satisfied: certifi>=2017.4.17 in /usr/local/lib/python3.10/dist-packages (from requests->transformers) (2024.12.14)\n",
            "Collecting PyPDF2\n",
            "  Downloading pypdf2-3.0.1-py3-none-any.whl.metadata (6.8 kB)\n",
            "Downloading pypdf2-3.0.1-py3-none-any.whl (232 kB)\n",
            "\u001b[2K   \u001b[90m━━━━━━━━━━━━━━━━━━━━━━━━━━━━━━━━━━━━━━━━\u001b[0m \u001b[32m232.6/232.6 kB\u001b[0m \u001b[31m14.1 MB/s\u001b[0m eta \u001b[36m0:00:00\u001b[0m\n",
            "\u001b[?25hInstalling collected packages: PyPDF2\n",
            "Successfully installed PyPDF2-3.0.1\n",
            "Requirement already satisfied: PyPDF2 in /usr/local/lib/python3.10/dist-packages (3.0.1)\n"
          ]
        }
      ]
    },
    {
      "cell_type": "code",
      "source": [
        "# Function to extract text from a PDF file\n",
        "def extract_text_from_pdf(pdf_path):\n",
        "    pdf_text = \"\"   # An empty string pdf_text is initialized to store the extracted text from the PDF.\n",
        "    with open(pdf_path, \"rb\") as file:\n",
        "        reader = PdfReader(file)  # Create a PdfReader Object\n",
        "        for page in reader.pages:\n",
        "            pdf_text += page.extract_text()\n",
        "    return pdf_text\n",
        "\n",
        "# Path to the PDF file\n",
        "pdf_path = \"/content/M Raza CV 2.pdf\"\n",
        "# pdf_path = \"your_pdf_file.pdf\"\n",
        "\n",
        "# Extract text from the PDF\n",
        "text = extract_text_from_pdf(pdf_path)\n"
      ],
      "metadata": {
        "id": "k9ea8r7l9QSY"
      },
      "execution_count": null,
      "outputs": []
    },
    {
      "cell_type": "code",
      "source": [
        "text"
      ],
      "metadata": {
        "colab": {
          "base_uri": "https://localhost:8080/",
          "height": 522
        },
        "id": "u6799J1zfSIE",
        "outputId": "f701dde5-0d3e-4601-f068-cd6b92e68526"
      },
      "execution_count": null,
      "outputs": [
        {
          "output_type": "execute_result",
          "data": {
            "text/plain": [
              "'MuhammadAsadRaza\\nMK64AU,MiltonKeynes|asadravjani786@gmail.com|+447869694166\\nProfessionalSummary\\nFirst-ClassHonorsdegreeinComputerSciencewithafocusonAI&Robotics.Proficientindataanalysis,dataextraction,andintegrationusingPowerBI,Excel,SQL,andTableau.Strongcommunicatorwithexperienceindevelopingdata-drivensolutionsandvisualizations.Skilledinautomatingdataupdatesandensuringdataqualitythroughvalidationprocesses.Eagertocontributetoadynamicdatateaminaglobalenvironmentandleveragemytechnicalskillsinadataanalyst/dataengineerrole.\\nWorkExperience\\nFraudAnalyst|GlobalPaymentsUK22April24–Current\\n●Excelledindeliveringexceptionalcustomerservicewith100%customersatisfactionbythoroughlyunderstandingcustomerissues\\n●Maintainedextensivedatasets,ensuringdataintegrityforfrauddetectionandanalysis.\\n●Utilizedstatisticaltechniquestouncoverpatternsandtrendsincomplexdatasets.\\n●Usageofpredictivemodelstoforecasttrends,aidingdecision-makingprocesses.\\n●Appliedproblem-solvingskillstoderiveactionableinsightssupportingstrategicinitiatives.\\n●Ensureddataqualitythroughrigorousvalidationandverificationprocesses.\\n●Assessedriskfactorsanddevelopedstrategiestomitigatepotentialfraudissues.\\nDataAnalyst(Internship)|UppercaseTechnologies01Jan24–15Feb24\\n●DevelopedinteractivedashboardsandreportsusingPowerBIandTableau,enhancingdatavisualizationforstakeholders.\\n●Analyzedsales,marketing,andcustomerdatatoidentifytrendsandoptimizeprocesses,contributingtorevenueenhancement.\\n●Collaboratedwithcross-functionalteamstogatherrequirementsanddelivercustomizeddatasolutions.\\n●LeddatacleaningandtransformationprocessesusingSQLandPython,ensuringdataaccuracy.\\n●Implementeddatagovernancepoliciestomeetregulatoryrequirementsandimprovedatasecurity.\\n●Reduceddataerrorsby20%throughdataqualityimprovementinitiatives.\\nEducation\\nUniversityofBuckinghamJuly22–Jan24\\nBSc(Hons)ComputerSciencewithAI&Robotics-First-ClassHonors\\nMajors:FundamentalsofAI,Robotics,SoftwareEngineering,Programming(PythonandC#),DatabaseManagementSystemsProjects:\\nStockPricePredictionusingMachineLearning(Python)\\nDevelopedastockpricepredictionsystemforAmazon,Netflix,Apple,andGoogleusingPython.Theprojectcomparedmachinelearninganddeeplearningmodels,withdeeplearningshowingbetteraccuracyinforecastingfuturestocktrends.\\nE-commerceWebsiteDevelopment(Java/React)\\nCreatedane-commercewebsiteusingJavaandReact.Theplatformoffersasmoothuserexperienceforbrowsingproducts,makingsecurepayments,andtrackingorders,withafocusonintuitivedesignandperformanceoptimization.\\nHotelManagementSystem(SQL)\\nDevelopedaSQL-basedHotelManagementSystemtohandleguestcheck-ins,staffrecords,andbookings.Thesystemusesdatabasemanagementrulestoensureorganizedandefficienthoteloperations.\\nAttendanceMonitoringSystem(Flutter)\\nBuiltanattendancemonitoringappusingFlutter,supportingbothAndroidandiOS.Theappenablesuserstomarkattendanceandmanagerecordsinreal-timethroughasimple,cross-platforminterface.\\nKeySkills\\n●AdvancedproficiencyinPowerBIandTableaufordatavisualizationandreporting\\n●StrongexpertiseinExcelandSQLfordataanalysisanddatabasemanagement\\n●ProficientinPythonandC#fordatamanipulation,analysis,andautomation\\n●CertifiedinMicrosoftOfficeSuite(Excel,Word,PowerPoint)forefficientdatapresentationanddocumentation\\n●Webdevelopmentskills(HTML,CSS,JavaScript,Bootstrap,React)forintegratinganalyticsintowebapplications\\n●Excellenttimemanagementandquicklearningabilities,ensuringtimelyandeffectiveprojectcompletion\\n●Superiororalandwrittencommunicationskills,enablingclearpresentationofcomplexdatainsights\\n●Stronginterpersonalandteamleadershipskillstocollaborateeffectivelyincross-functionalteams'"
            ],
            "application/vnd.google.colaboratory.intrinsic+json": {
              "type": "string"
            }
          },
          "metadata": {},
          "execution_count": 8
        }
      ]
    },
    {
      "cell_type": "markdown",
      "source": [
        "pdf_text = \"\"   # An empty string pdf_text is initialized to store the extracted text from the PDF.\n",
        "\n",
        "PdfReader(file) --> A PdfReader object is created by passing the file object (file). The PdfReader class from the PyPDF2 library is used to read the content of the PDF file.\n",
        "\n",
        "\n",
        "for page in reader.pages -->\n",
        "This line starts a loop that iterates through each page in the PDF. The reader.pages attribute is a list of pages in the PDF.pdf_text = \"\"   # An empty string pdf_text is initialized to store the extracted text from the PDF.\n",
        "\n",
        "\n",
        "\n",
        "For each page, the extract_text method is called to extract the text content from the page. The extracted text is then concatenated to the pdf_text string.\n",
        "\n",
        "\n",
        "## Summary:\n",
        "The extract_text_from_pdf function reads a PDF file from the specified path, extracts text from each page, and returns the combined text. It:\n",
        "\n",
        "1. Opens the PDF file in binary read mode.\n",
        "\n",
        "2. Creates a PdfReader object to read the PDF.\n",
        "\n",
        "3. Iterates through each page in the PDF.\n",
        "\n",
        "4. Extracts text from each page using the extract_text method.\n",
        "\n",
        "5. Concatenates the extracted text to a single string.\n",
        "\n",
        "6. Returns the concatenated text.\n"
      ],
      "metadata": {
        "id": "xqnqwLop-gFv"
      }
    },
    {
      "cell_type": "code",
      "source": [
        "# Initialize the summarization pipeline\n",
        "summarizer_model = pipeline(\"summarization\",model = 'facebook/bart-large-cnn')\n",
        "# Summarize the extracted text\n",
        "summarized_text = summarizer_model(text, max_length=130, min_length=30, do_sample=False)"
      ],
      "metadata": {
        "id": "6BSEAvM--kSF",
        "colab": {
          "base_uri": "https://localhost:8080/",
          "height": 226,
          "referenced_widgets": [
            "5d0c1f1f2bf54fc8aff8a81be1b5d85f",
            "b25ddbe0a3c24fc08a2071205815d9cb",
            "de5aae61a777427397a6fd9044fea2c2",
            "2265cd4551a84817956573d5b74e589f",
            "bd8bd3354e024a0b80e423ebc3c6735a",
            "c6109dc78ae048dc86074b6a7408baa6",
            "1e608b2f65e3426a9c7d9aec03da14fe",
            "93130bfaacfb4544a7ae524dba091dad",
            "d243c055336845e593aa36a3d05f5813",
            "42df3ca26b244c2d9526290501f593e2",
            "3600e2432f9d448f8d0cc78656ac3f88",
            "160b04aa729c44468d04183702862ca4",
            "a4d9e55983c9497890822c91ef6d665f",
            "36088b6e4a214097b196bdee1211472c",
            "24d46aae482149b2808de9b1a85a9d6a",
            "8a744f5d1d0842efb210e6fc59058182",
            "46417e7609f44a86a4f7e43794dd2e83",
            "ed9660d29a634a6c8d2b89dc5cf7fa72",
            "fc09bf08b9734fc69dc57d45efc24dac",
            "84c9b5403573480aaea55b8383142ce6",
            "ceaa1bbbda2b4553ad19df4cac74092b",
            "9d2c33f6440e47cf81ced03833fef400",
            "d54da7a2eafd43d7aba0a5680b98f8f2",
            "2e0968ab90e14a37b46a6b8bec2a1cc2",
            "1b1d9eae682e4cb0a4222938d8fc4409",
            "bdca6feff0074262b651000baf01e47b",
            "7c6314c62f5d472d8493a90d9d1b03c3",
            "d93d71e7442243ee976fa9fc93a65869",
            "6052bf2970ee48b6b80ba85145247efb",
            "80786ac266c349569bc18f0ffe0384d4",
            "9ec7688e6e1e4caeaca4ca500d0b75f7",
            "bbab4a93be2945209888bb06cf3db8e1",
            "52ce2a9e844441abab918fcf46adbdc8",
            "a83838b79eb348fd8813b1d2044b324c",
            "36d164db1c73479182898e27e95b78d1",
            "a79fad3652ec48919a0d623a07bd92c7",
            "00e06bd5257d4f1fa315ed7e5d3fc9c8",
            "bc7dc376acb645f9b2956f1b1b07230b",
            "6baf799bdbb942028baa9bad146fd874",
            "30873711988e47129d92778478695244",
            "e5ac8526a75d402eb99981590d651e50",
            "b5728282fcd14301a0d1261da8008f19",
            "2da4d0f9a4ce4f10a56f4832b1ed2d31",
            "e553e76e101248f192888610bfd864bb",
            "987f839a2a604b3797728a61e4b27a9d",
            "6de80e3d9c3b444da894f6c32dfe7d4e",
            "e2231bdf378246a7ae6580d865abbc69",
            "283a602ea9b541d49a2448e5b5806591",
            "d02acd43ae994474964f18ce8e3aba0a",
            "794a60c4402745349e876fc533c9fa91",
            "33e3f4996a3a4ace99f2cbfb1234cc88",
            "a48100281588400a9d48527886c04879",
            "3c372eacc5b14aa19e28e06394c8305f",
            "78ad285397934b34a0525dfc92abbca3",
            "7f6548bd3e304305a5016ca480836ec5",
            "aa836128304040338f4a5dafb820335c",
            "99f59fc337b7475a8695c32d4d481ae2",
            "e02884d9d9d64524911cbbce037b1ce7",
            "84b6f4dedd2e416c923f2c16045ae4d8",
            "9d6e3f7bc2aa499bbac28ec7ec13abe3",
            "15453898491f41a998dbd254048e2125",
            "e715c5e12ebb40b99282e8e4c02913ea",
            "60078c7c99ac4a06ab89fea540d4ff4b",
            "28ec250265de47cdb21dcc0695d609de",
            "f99eb3ef511345d09ed74f471792ee8f",
            "497aee0a3c8d44718db205be0212ec9a"
          ]
        },
        "outputId": "fa882692-ab8b-493c-f77d-9a99966b0ad5"
      },
      "execution_count": null,
      "outputs": [
        {
          "output_type": "display_data",
          "data": {
            "text/plain": [
              "config.json:   0%|          | 0.00/1.58k [00:00<?, ?B/s]"
            ],
            "application/vnd.jupyter.widget-view+json": {
              "version_major": 2,
              "version_minor": 0,
              "model_id": "5d0c1f1f2bf54fc8aff8a81be1b5d85f"
            }
          },
          "metadata": {}
        },
        {
          "output_type": "display_data",
          "data": {
            "text/plain": [
              "model.safetensors:   0%|          | 0.00/1.63G [00:00<?, ?B/s]"
            ],
            "application/vnd.jupyter.widget-view+json": {
              "version_major": 2,
              "version_minor": 0,
              "model_id": "160b04aa729c44468d04183702862ca4"
            }
          },
          "metadata": {}
        },
        {
          "output_type": "display_data",
          "data": {
            "text/plain": [
              "generation_config.json:   0%|          | 0.00/363 [00:00<?, ?B/s]"
            ],
            "application/vnd.jupyter.widget-view+json": {
              "version_major": 2,
              "version_minor": 0,
              "model_id": "d54da7a2eafd43d7aba0a5680b98f8f2"
            }
          },
          "metadata": {}
        },
        {
          "output_type": "display_data",
          "data": {
            "text/plain": [
              "vocab.json:   0%|          | 0.00/899k [00:00<?, ?B/s]"
            ],
            "application/vnd.jupyter.widget-view+json": {
              "version_major": 2,
              "version_minor": 0,
              "model_id": "a83838b79eb348fd8813b1d2044b324c"
            }
          },
          "metadata": {}
        },
        {
          "output_type": "display_data",
          "data": {
            "text/plain": [
              "merges.txt:   0%|          | 0.00/456k [00:00<?, ?B/s]"
            ],
            "application/vnd.jupyter.widget-view+json": {
              "version_major": 2,
              "version_minor": 0,
              "model_id": "987f839a2a604b3797728a61e4b27a9d"
            }
          },
          "metadata": {}
        },
        {
          "output_type": "display_data",
          "data": {
            "text/plain": [
              "tokenizer.json:   0%|          | 0.00/1.36M [00:00<?, ?B/s]"
            ],
            "application/vnd.jupyter.widget-view+json": {
              "version_major": 2,
              "version_minor": 0,
              "model_id": "aa836128304040338f4a5dafb820335c"
            }
          },
          "metadata": {}
        },
        {
          "output_type": "stream",
          "name": "stderr",
          "text": [
            "Device set to use cuda:0\n"
          ]
        }
      ]
    },
    {
      "cell_type": "markdown",
      "source": [],
      "metadata": {
        "id": "ugzPowk0X2Yo"
      }
    },
    {
      "cell_type": "code",
      "source": [
        "# Print the summarized text\n",
        "print(summarized_text[0]['summary_text'])"
      ],
      "metadata": {
        "colab": {
          "base_uri": "https://localhost:8080/"
        },
        "id": "wbXQilcY9W2I",
        "outputId": "68269ddf-ba89-400b-b379-071236af20e0"
      },
      "execution_count": null,
      "outputs": [
        {
          "output_type": "stream",
          "name": "stdout",
          "text": [
            "FraudAnalyst MuhammadAsadRaza holds a First-ClassHonors degree inComputerScience. He is proficient in data analysis, dataextraction, andintegration using PowerBI,Excel,SQL, andTableau. He has also developed a hotel management system.\n"
          ]
        }
      ]
    },
    {
      "cell_type": "code",
      "source": [
        "len(text.split())"
      ],
      "metadata": {
        "colab": {
          "base_uri": "https://localhost:8080/"
        },
        "id": "P6yfAlzP9bdS",
        "outputId": "98780faa-44b4-4b4c-f275-24a0ea68deeb"
      },
      "execution_count": null,
      "outputs": [
        {
          "output_type": "execute_result",
          "data": {
            "text/plain": [
              "41"
            ]
          },
          "metadata": {},
          "execution_count": 6
        }
      ]
    },
    {
      "cell_type": "code",
      "source": [
        "len(summarized_text[0]['summary_text'].split())"
      ],
      "metadata": {
        "colab": {
          "base_uri": "https://localhost:8080/"
        },
        "id": "hw9v2cOn9bpO",
        "outputId": "7174079f-b858-465c-e8d7-4a2e35b64c98"
      },
      "execution_count": null,
      "outputs": [
        {
          "output_type": "execute_result",
          "data": {
            "text/plain": [
              "21"
            ]
          },
          "metadata": {},
          "execution_count": 7
        }
      ]
    }
  ]
}